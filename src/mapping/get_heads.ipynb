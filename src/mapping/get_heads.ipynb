{
 "cells": [
  {
   "cell_type": "code",
   "execution_count": 1,
   "metadata": {
    "collapsed": true
   },
   "outputs": [],
   "source": [
    "# coding: utf-8\n",
    "\n",
    "import numpy as np\n",
    "import pandas as pd\n",
    "import pickle\n",
    "import gzip\n",
    "from collections import Counter\n",
    "from gensim.models import KeyedVectors\n",
    "from scipy.spatial.distance import cosine"
   ]
  },
  {
   "cell_type": "code",
   "execution_count": 3,
   "metadata": {},
   "outputs": [],
   "source": [
    "glove_model = KeyedVectors.load_word2vec_format(\"glove.6B/glove.6B.300d.vocab.w2v.bin\")\n",
    "#cbow_model = KeyedVectors.load_word2vec_format(\"glove.6B/cbow.400d.vocab.w2v.bin\")"
   ]
  },
  {
   "cell_type": "code",
   "execution_count": 8,
   "metadata": {},
   "outputs": [],
   "source": [
    "cbow_model = KeyedVectors.load_word2vec_format(\"glove.6B/cbow.400d.vocab.w2v.bin\")"
   ]
  },
  {
   "cell_type": "code",
   "execution_count": 9,
   "metadata": {},
   "outputs": [
    {
     "data": {
      "text/plain": [
       "[('cows', 0.6693729162216187),\n",
       " ('calf', 0.506991446018219),\n",
       " ('udders', 0.4867766499519348),\n",
       " ('goat', 0.47262561321258545),\n",
       " ('pig', 0.4672166705131531),\n",
       " ('udder', 0.4562602639198303),\n",
       " ('calves', 0.45408329367637634),\n",
       " ('cattle', 0.45118770003318787),\n",
       " ('sheep', 0.44824469089508057),\n",
       " ('herd', 0.43862858414649963)]"
      ]
     },
     "execution_count": 9,
     "metadata": {},
     "output_type": "execute_result"
    }
   ],
   "source": [
    "cbow_model.most_similar('cow')"
   ]
  },
  {
   "cell_type": "code",
   "execution_count": 3,
   "metadata": {},
   "outputs": [
    {
     "data": {
      "text/plain": [
       "[('cows', 0.7157833576202393),\n",
       " ('mad', 0.6735858917236328),\n",
       " ('bovine', 0.6667904853820801),\n",
       " ('cattle', 0.6248130798339844),\n",
       " ('sheep', 0.596968412399292),\n",
       " ('beef', 0.5827497243881226),\n",
       " ('goat', 0.5626482963562012),\n",
       " ('pig', 0.5351741313934326),\n",
       " ('meat', 0.5321629643440247),\n",
       " ('animal', 0.5035290122032166)]"
      ]
     },
     "execution_count": 3,
     "metadata": {},
     "output_type": "execute_result"
    }
   ],
   "source": [
    "glove_model.most_similar('cow')"
   ]
  },
  {
   "cell_type": "code",
   "execution_count": 10,
   "metadata": {},
   "outputs": [
    {
     "data": {
      "text/plain": [
       "[('horses', 0.8141624927520752),\n",
       " ('dog', 0.5369751453399658),\n",
       " ('riding', 0.5290381908416748),\n",
       " ('racing', 0.5160472989082336),\n",
       " ('rode', 0.5007773637771606),\n",
       " ('jockey', 0.48490625619888306),\n",
       " ('ride', 0.48027461767196655),\n",
       " ('cat', 0.4732130765914917),\n",
       " ('stallion', 0.47192591428756714),\n",
       " ('race', 0.46755677461624146)]"
      ]
     },
     "execution_count": 10,
     "metadata": {},
     "output_type": "execute_result"
    }
   ],
   "source": [
    "glove_model.most_similar('horse')"
   ]
  },
  {
   "cell_type": "code",
   "execution_count": 11,
   "metadata": {},
   "outputs": [
    {
     "data": {
      "text/plain": [
       "[('horses', 0.7770479917526245),\n",
       " ('pony', 0.5609266757965088),\n",
       " ('stallion', 0.55982506275177),\n",
       " ('riderless', 0.5317178964614868),\n",
       " ('foal', 0.5293401479721069),\n",
       " ('horseman', 0.4821648597717285),\n",
       " ('hooves', 0.44404685497283936),\n",
       " ('gallop', 0.4353393316268921),\n",
       " ('mule', 0.4334191083908081),\n",
       " ('galloping', 0.4329950213432312)]"
      ]
     },
     "execution_count": 11,
     "metadata": {},
     "output_type": "execute_result"
    }
   ],
   "source": [
    "cbow_model.most_similar('horse')"
   ]
  },
  {
   "cell_type": "code",
   "execution_count": 12,
   "metadata": {},
   "outputs": [
    {
     "data": {
      "text/plain": [
       "[('cow', 0.7939551472663879),\n",
       " ('riding', 0.7633981108665466),\n",
       " ('cows', 0.6142357587814331),\n",
       " ('horse', 0.6075267791748047),\n",
       " ('horses', 0.5751385688781738),\n",
       " ('mad', 0.5563023090362549),\n",
       " ('cattle', 0.5457651019096375),\n",
       " ('sheep', 0.5411986708641052),\n",
       " ('rode', 0.4979754090309143),\n",
       " ('ride', 0.47951769828796387)]"
      ]
     },
     "execution_count": 12,
     "metadata": {},
     "output_type": "execute_result"
    }
   ],
   "source": [
    "glove_model.similar_by_vector(glove_model['cow'] + glove_model['riding'])"
   ]
  },
  {
   "cell_type": "code",
   "execution_count": 13,
   "metadata": {},
   "outputs": [
    {
     "data": {
      "text/plain": [
       "[('riding', 0.757603108882904),\n",
       " ('cow', 0.734711766242981),\n",
       " ('horse', 0.4997519850730896),\n",
       " ('cows', 0.4960385262966156),\n",
       " ('pony', 0.49214795231819153),\n",
       " ('riderless', 0.4482153356075287),\n",
       " ('horses', 0.43953239917755127),\n",
       " ('rider', 0.4353545904159546),\n",
       " ('udders', 0.430571585893631),\n",
       " ('bull', 0.4166943430900574)]"
      ]
     },
     "execution_count": 13,
     "metadata": {},
     "output_type": "execute_result"
    }
   ],
   "source": [
    "cbow_model.similar_by_vector(cbow_model['cow'] + cbow_model['riding'])"
   ]
  },
  {
   "cell_type": "code",
   "execution_count": 14,
   "metadata": {},
   "outputs": [
    {
     "data": {
      "text/plain": [
       "[('cow', 0.7070010304450989),\n",
       " ('bear', 0.6406359672546387),\n",
       " ('guy', 0.5605200529098511),\n",
       " ('bears', 0.46947741508483887),\n",
       " ('cows', 0.4568237066268921),\n",
       " ('goat', 0.43706417083740234),\n",
       " ('dog', 0.4228760004043579),\n",
       " ('binky', 0.42065703868865967),\n",
       " ('doofus', 0.3985612988471985),\n",
       " ('pig', 0.39792752265930176)]"
      ]
     },
     "execution_count": 14,
     "metadata": {},
     "output_type": "execute_result"
    }
   ],
   "source": [
    "cbow_model.similar_by_vector(cbow_model['cow'] + cbow_model['bear'] + cbow_model['guy'])"
   ]
  },
  {
   "cell_type": "code",
   "execution_count": 18,
   "metadata": {},
   "outputs": [
    {
     "data": {
      "text/plain": [
       "[('bear', 0.7004120349884033),\n",
       " ('cow', 0.6997702121734619),\n",
       " ('guy', 0.6032382249832153),\n",
       " ('dog', 0.5678098201751709),\n",
       " ('mad', 0.5576112270355225),\n",
       " ('thing', 0.5364335775375366),\n",
       " ('kind', 0.5276697874069214),\n",
       " ('big', 0.523923933506012),\n",
       " ('man', 0.5139811038970947),\n",
       " ('kid', 0.5113055109977722)]"
      ]
     },
     "execution_count": 18,
     "metadata": {},
     "output_type": "execute_result"
    }
   ],
   "source": [
    "glove_model.similar_by_vector(glove_model['cow'] + glove_model['bear'] + glove_model['guy'])"
   ]
  },
  {
   "cell_type": "code",
   "execution_count": 19,
   "metadata": {},
   "outputs": [
    {
     "data": {
      "text/plain": [
       "0.42092965899493234"
      ]
     },
     "execution_count": 19,
     "metadata": {},
     "output_type": "execute_result"
    }
   ],
   "source": [
    "glove_model.similarity('cow','horse')"
   ]
  },
  {
   "cell_type": "code",
   "execution_count": 23,
   "metadata": {},
   "outputs": [
    {
     "data": {
      "text/plain": [
       "0.4209296481949768"
      ]
     },
     "execution_count": 23,
     "metadata": {},
     "output_type": "execute_result"
    }
   ],
   "source": [
    "1-cosine(glove_model['cow'],glove_model['horse'])"
   ]
  },
  {
   "cell_type": "code",
   "execution_count": 34,
   "metadata": {
    "collapsed": true
   },
   "outputs": [],
   "source": [
    "cow_horse_sim = Counter()"
   ]
  },
  {
   "cell_type": "code",
   "execution_count": 35,
   "metadata": {
    "collapsed": true
   },
   "outputs": [],
   "source": [
    "for word in glove_model.vocab:\n",
    "    if word not in ['cow','horse','horses']:\n",
    "        cow_horse_sim[word] = 1-cosine(glove_model['cow']+glove_model[word],glove_model['horse'])"
   ]
  },
  {
   "cell_type": "code",
   "execution_count": 36,
   "metadata": {},
   "outputs": [
    {
     "data": {
      "text/plain": [
       "[('racing', 0.62743886243569857),\n",
       " ('jockey', 0.61821113327669852),\n",
       " ('riding', 0.60752679765240636),\n",
       " ('rode', 0.60303559755114522),\n",
       " ('colt', 0.59602460439156923),\n",
       " ('race', 0.59558967883424219),\n",
       " ('ride', 0.58426705084976849),\n",
       " ('stallion', 0.57224129628173059),\n",
       " ('rides', 0.57220820502066805),\n",
       " ('dog', 0.57037978398090328)]"
      ]
     },
     "execution_count": 36,
     "metadata": {},
     "output_type": "execute_result"
    }
   ],
   "source": [
    "cow_horse_sim.most_common(10)"
   ]
  },
  {
   "cell_type": "code",
   "execution_count": 37,
   "metadata": {
    "collapsed": true
   },
   "outputs": [],
   "source": [
    "cow_horse_sim2 = Counter()"
   ]
  },
  {
   "cell_type": "code",
   "execution_count": 38,
   "metadata": {
    "collapsed": true
   },
   "outputs": [],
   "source": [
    "for first_word,_ in cow_horse_sim.most_common(20):\n",
    "    cow_horse_sim2[(first_word,)] = cow_horse_sim[first_word]\n",
    "    for second_word in glove_model.vocab:\n",
    "        if second_word not in ['cow','horse','horses',first_word]:\n",
    "            cow_horse_sim2[(first_word,second_word)] = 1-cosine(glove_model['cow']+glove_model[second_word]+glove_model[first_word],glove_model['horse'])"
   ]
  },
  {
   "cell_type": "code",
   "execution_count": 39,
   "metadata": {},
   "outputs": [
    {
     "data": {
      "text/plain": [
       "[(('riding', 'colt'), 0.70302507153664229),\n",
       " (('colt', 'riding'), 0.70302507153664229),\n",
       " (('racing', 'colt'), 0.69822233277287649),\n",
       " (('colt', 'racing'), 0.69822233277287649),\n",
       " (('racing', 'rode'), 0.69394585927646757),\n",
       " (('rode', 'racing'), 0.69394585927646757),\n",
       " (('racing', 'stallion'), 0.69006248148526095),\n",
       " (('stallion', 'racing'), 0.69006248148526095),\n",
       " (('racing', 'dog'), 0.68958321550557955),\n",
       " (('dog', 'racing'), 0.68958321550557955)]"
      ]
     },
     "execution_count": 39,
     "metadata": {},
     "output_type": "execute_result"
    }
   ],
   "source": [
    "cow_horse_sim2.most_common(10)"
   ]
  },
  {
   "cell_type": "code",
   "execution_count": 40,
   "metadata": {},
   "outputs": [
    {
     "data": {
      "text/plain": [
       "0.62743886243569857"
      ]
     },
     "execution_count": 40,
     "metadata": {},
     "output_type": "execute_result"
    }
   ],
   "source": [
    "n = 0.5\n",
    "1-cosine(((n*glove_model['cow'])+((1-n)*glove_model['racing'])),glove_model['horse'])"
   ]
  },
  {
   "cell_type": "code",
   "execution_count": 44,
   "metadata": {},
   "outputs": [
    {
     "name": "stdout",
     "output_type": "stream",
     "text": [
      "0.1 0.550573780375\n",
      "0.2 0.583873419828\n",
      "0.3 0.611623048233\n",
      "0.4 0.628005486289\n",
      "0.5 0.627438862436\n",
      "0.6 0.607473320468\n",
      "0.7 0.570607207475\n",
      "0.8 0.523023664075\n",
      "0.9 0.471460196007\n"
     ]
    }
   ],
   "source": [
    "for n in range(1,10):\n",
    "    print(n/10,1-cosine((((n/10)*glove_model['cow'])+((1-n/10)*glove_model['racing'])),glove_model['horse']))\n",
    "    "
   ]
  },
  {
   "cell_type": "code",
   "execution_count": 45,
   "metadata": {},
   "outputs": [
    {
     "data": {
      "text/plain": [
       "[('dog', 0.795136570930481),\n",
       " ('cow', 0.7213115692138672),\n",
       " ('bike', 0.6684139370918274),\n",
       " ('dogs', 0.6264644861221313),\n",
       " ('horse', 0.6207606792449951),\n",
       " ('bicycle', 0.5497134923934937),\n",
       " ('cat', 0.5461453199386597),\n",
       " ('goat', 0.5461424589157104),\n",
       " ('animal', 0.5442163944244385),\n",
       " ('sheep', 0.5433530211448669)]"
      ]
     },
     "execution_count": 45,
     "metadata": {},
     "output_type": "execute_result"
    }
   ],
   "source": [
    "glove_model.similar_by_vector(glove_model['cow'] + glove_model['dog'] + glove_model['bike'])"
   ]
  },
  {
   "cell_type": "code",
   "execution_count": 49,
   "metadata": {},
   "outputs": [
    {
     "data": {
      "text/plain": [
       "[('horses', 0.8141624927520752),\n",
       " ('dog', 0.5369751453399658),\n",
       " ('riding', 0.5290381908416748),\n",
       " ('racing', 0.5160472989082336),\n",
       " ('rode', 0.5007773637771606),\n",
       " ('jockey', 0.48490625619888306),\n",
       " ('ride', 0.48027461767196655),\n",
       " ('cat', 0.4732130765914917),\n",
       " ('stallion', 0.47192591428756714),\n",
       " ('race', 0.46755677461624146),\n",
       " ('colt', 0.46563082933425903),\n",
       " ('saddle', 0.46305644512176514),\n",
       " ('camel', 0.4590829610824585),\n",
       " ('rides', 0.45908161997795105),\n",
       " ('trainer', 0.4521074891090393),\n",
       " ('bred', 0.45107370615005493),\n",
       " ('pony', 0.4498513340950012),\n",
       " ('sheep', 0.444318562746048),\n",
       " ('bull', 0.44192397594451904),\n",
       " ('donkey', 0.43909531831741333)]"
      ]
     },
     "execution_count": 49,
     "metadata": {},
     "output_type": "execute_result"
    }
   ],
   "source": [
    "glove_model.most_similar('horse',topn=20)"
   ]
  },
  {
   "cell_type": "code",
   "execution_count": 50,
   "metadata": {},
   "outputs": [
    {
     "data": {
      "text/plain": [
       "6696"
      ]
     },
     "execution_count": 50,
     "metadata": {},
     "output_type": "execute_result"
    }
   ],
   "source": [
    "len(glove_model.vocab)"
   ]
  },
  {
   "cell_type": "code",
   "execution_count": 51,
   "metadata": {
    "collapsed": true
   },
   "outputs": [],
   "source": [
    "glove_plus = KeyedVectors.load_word2vec_format(\"glove.6B/glove.6B.300d.vocabplus.w2v.bin\")"
   ]
  },
  {
   "cell_type": "code",
   "execution_count": 52,
   "metadata": {},
   "outputs": [
    {
     "data": {
      "text/plain": [
       "8579"
      ]
     },
     "execution_count": 52,
     "metadata": {},
     "output_type": "execute_result"
    }
   ],
   "source": [
    "len(glove_plus.vocab)"
   ]
  },
  {
   "cell_type": "code",
   "execution_count": 53,
   "metadata": {},
   "outputs": [
    {
     "data": {
      "text/plain": [
       "[('horses', 0.8141624927520752),\n",
       " ('dog', 0.5369751453399658),\n",
       " ('riding', 0.5290381908416748),\n",
       " ('racing', 0.5160472989082336),\n",
       " ('rode', 0.5007773637771606),\n",
       " ('jockey', 0.48490625619888306),\n",
       " ('ride', 0.48027461767196655),\n",
       " ('cat', 0.4732130765914917),\n",
       " ('stallion', 0.47192591428756714),\n",
       " ('race', 0.46755677461624146)]"
      ]
     },
     "execution_count": 53,
     "metadata": {},
     "output_type": "execute_result"
    }
   ],
   "source": [
    "glove_plus.most_similar('horse')"
   ]
  },
  {
   "cell_type": "code",
   "execution_count": 64,
   "metadata": {},
   "outputs": [
    {
     "data": {
      "text/plain": [
       "[('cow', 0.8207373023033142),\n",
       " ('animal', 0.771302342414856),\n",
       " ('bull', 0.7218084335327148),\n",
       " ('animals', 0.670396625995636),\n",
       " ('cows', 0.6582960486412048),\n",
       " ('cattle', 0.6202667951583862),\n",
       " ('sheep', 0.6193576455116272),\n",
       " ('mad', 0.5810044407844543),\n",
       " ('meat', 0.5745887756347656),\n",
       " ('dog', 0.5720890760421753)]"
      ]
     },
     "execution_count": 64,
     "metadata": {},
     "output_type": "execute_result"
    }
   ],
   "source": [
    "glove_model.similar_by_vector(glove_model['animal'] + glove_model['bull'] + glove_model['cow'])"
   ]
  },
  {
   "cell_type": "code",
   "execution_count": 68,
   "metadata": {},
   "outputs": [
    {
     "data": {
      "text/plain": [
       "[('seat', 0.7422691583633423),\n",
       " ('cow', 0.7356062531471252),\n",
       " ('cows', 0.5139919519424438),\n",
       " ('seats', 0.5068806409835815),\n",
       " ('mad', 0.47221899032592773),\n",
       " ('cattle', 0.46913474798202515),\n",
       " ('sheep', 0.44709721207618713),\n",
       " ('bovine', 0.435454398393631),\n",
       " ('sitting', 0.41613683104515076),\n",
       " ('beef', 0.4071590304374695),\n",
       " ('horse', 0.4055815041065216),\n",
       " ('riding', 0.39647307991981506),\n",
       " ('dog', 0.3770301938056946),\n",
       " ('foot', 0.3724724352359772),\n",
       " ('animal', 0.3707016706466675),\n",
       " ('goat', 0.36898183822631836),\n",
       " ('milk', 0.36878344416618347),\n",
       " ('back', 0.3686487376689911),\n",
       " ('meat', 0.368600457906723),\n",
       " ('farm', 0.36848998069763184)]"
      ]
     },
     "execution_count": 68,
     "metadata": {},
     "output_type": "execute_result"
    }
   ],
   "source": [
    "glove_model.similar_by_vector(glove_model['cow'] + glove_model['seat'],topn=20)"
   ]
  },
  {
   "cell_type": "code",
   "execution_count": 76,
   "metadata": {},
   "outputs": [
    {
     "name": "stdout",
     "output_type": "stream",
     "text": [
      "0.420929648195\n",
      "+ person\n",
      "0.458124158126\n",
      "0.458124158126\n",
      "+ elephant\n",
      "0.530731503567\n",
      "0.530731503567\n",
      "+ black\n",
      "0.525253770401\n",
      "0.525253770401\n",
      "+ man\n",
      "0.520237539256\n",
      "0.520237539256\n",
      "+ animal\n",
      "0.538562516329\n",
      "[('animal', 0.7068608999252319), ('man', 0.6890851259231567), ('elephant', 0.662988543510437), ('cow', 0.6541603803634644), ('animals', 0.6370037198066711), ('woman', 0.6142318248748779), ('person', 0.6114072799682617), ('dog', 0.604219913482666), ('black', 0.5613945722579956), ('boy', 0.5487518906593323)]\n"
     ]
    }
   ],
   "source": [
    "sum_vec = glove_model['cow']\n",
    "for w in ['person','elephant','black','man','animal']:\n",
    "    print(1-cosine(sum_vec,glove_model['horse']))\n",
    "    sum_vec = sum_vec + glove_model[w]\n",
    "    print(\"+\",w)\n",
    "    print(1-cosine(sum_vec,glove_model['horse']))\n",
    "    \n",
    "print(glove_model.similar_by_vector(sum_vec))"
   ]
  },
  {
   "cell_type": "code",
   "execution_count": 84,
   "metadata": {},
   "outputs": [
    {
     "data": {
      "text/plain": [
       "[('car', 0.7843878269195557),\n",
       " ('train', 0.7594270706176758),\n",
       " ('truck', 0.6765108108520508),\n",
       " ('bus', 0.6656845808029175),\n",
       " ('suitcase', 0.6476494073867798),\n",
       " ('cars', 0.631690263748169),\n",
       " ('passenger', 0.6314556002616882),\n",
       " ('vehicle', 0.6233620643615723),\n",
       " ('trains', 0.5941781997680664),\n",
       " ('luggage', 0.580843985080719),\n",
       " ('parked', 0.5775442123413086),\n",
       " ('driver', 0.5527359843254089),\n",
       " ('carrying', 0.5359137058258057),\n",
       " ('taxi', 0.5304840803146362),\n",
       " ('passengers', 0.5259625911712646),\n",
       " ('vehicles', 0.5113798379898071),\n",
       " ('plane', 0.5052343606948853),\n",
       " ('wagon', 0.5049293041229248),\n",
       " ('jeep', 0.5048753619194031),\n",
       " ('buses', 0.50296950340271)]"
      ]
     },
     "execution_count": 84,
     "metadata": {},
     "output_type": "execute_result"
    }
   ],
   "source": [
    "glove_model.similar_by_vector(glove_model['train'] + glove_model['car'] + glove_model['suitcase'],topn=20)"
   ]
  },
  {
   "cell_type": "code",
   "execution_count": 85,
   "metadata": {},
   "outputs": [
    {
     "data": {
      "text/plain": [
       "[('train', 1.0000001192092896),\n",
       " ('trains', 0.8230966329574585),\n",
       " ('bus', 0.670767068862915),\n",
       " ('rail', 0.635927140712738),\n",
       " ('freight', 0.5893657803535461),\n",
       " ('passenger', 0.5863174200057983),\n",
       " ('buses', 0.5471792817115784),\n",
       " ('subway', 0.5458871126174927),\n",
       " ('passengers', 0.5390786528587341),\n",
       " ('station', 0.5274492502212524)]"
      ]
     },
     "execution_count": 85,
     "metadata": {},
     "output_type": "execute_result"
    }
   ],
   "source": [
    "glove_model.similar_by_vector(glove_model['train'])"
   ]
  },
  {
   "cell_type": "code",
   "execution_count": 87,
   "metadata": {},
   "outputs": [
    {
     "data": {
      "text/plain": [
       "-0.037207998"
      ]
     },
     "execution_count": 87,
     "metadata": {},
     "output_type": "execute_result"
    }
   ],
   "source": [
    "glove_model['train'][0]"
   ]
  },
  {
   "cell_type": "code",
   "execution_count": 90,
   "metadata": {
    "collapsed": true
   },
   "outputs": [],
   "source": [
    "dil_vec = (glove_model['train']*glove_model['train']*glove_model['car']) + (0.4*(glove_model['train']*glove_model['car']*glove_model['car']))"
   ]
  },
  {
   "cell_type": "code",
   "execution_count": 97,
   "metadata": {},
   "outputs": [
    {
     "data": {
      "text/plain": [
       "[('train', 0.9641594886779785),\n",
       " ('trains', 0.7808172106742859),\n",
       " ('bus', 0.7379264831542969),\n",
       " ('truck', 0.6669365167617798),\n",
       " ('car', 0.6652240753173828),\n",
       " ('passenger', 0.6368261575698853),\n",
       " ('rail', 0.621604323387146),\n",
       " ('freight', 0.5962470769882202),\n",
       " ('cars', 0.5927486419677734),\n",
       " ('buses', 0.5894615650177002)]"
      ]
     },
     "execution_count": 97,
     "metadata": {},
     "output_type": "execute_result"
    }
   ],
   "source": [
    "glove_model.similar_by_vector(glove_model['train'] + 0.2*glove_model['car'] + 0.2*glove_model['truck'])"
   ]
  },
  {
   "cell_type": "code",
   "execution_count": 100,
   "metadata": {},
   "outputs": [
    {
     "data": {
      "text/plain": [
       "[('trucks', 0.7520503997802734),\n",
       " ('car', 0.7350622415542603),\n",
       " ('vehicle', 0.6715237498283386),\n",
       " ('pickup', 0.6509097814559937),\n",
       " ('tractor', 0.6300186514854431),\n",
       " ('driver', 0.6279593110084534),\n",
       " ('parked', 0.6254948377609253),\n",
       " ('bus', 0.6185721755027771),\n",
       " ('vehicles', 0.5857246518135071),\n",
       " ('cars', 0.583194375038147)]"
      ]
     },
     "execution_count": 100,
     "metadata": {},
     "output_type": "execute_result"
    }
   ],
   "source": [
    "glove_model.most_similar('truck')"
   ]
  },
  {
   "cell_type": "code",
   "execution_count": 106,
   "metadata": {
    "collapsed": true
   },
   "outputs": [],
   "source": [
    "sum_vec = glove_model['train'] + glove_model['car'] + glove_model['truck']"
   ]
  },
  {
   "cell_type": "code",
   "execution_count": 107,
   "metadata": {},
   "outputs": [
    {
     "data": {
      "text/plain": [
       "0.76653252791043003"
      ]
     },
     "execution_count": 107,
     "metadata": {},
     "output_type": "execute_result"
    }
   ],
   "source": [
    "1-cosine(sum_vec,glove_model['train'])"
   ]
  },
  {
   "cell_type": "code",
   "execution_count": 108,
   "metadata": {},
   "outputs": [
    {
     "data": {
      "text/plain": [
       "0.87775075029811234"
      ]
     },
     "execution_count": 108,
     "metadata": {},
     "output_type": "execute_result"
    }
   ],
   "source": [
    "1-cosine(sum_vec,glove_model['car'])"
   ]
  },
  {
   "cell_type": "code",
   "execution_count": 109,
   "metadata": {},
   "outputs": [
    {
     "data": {
      "text/plain": [
       "0.73491121992195219"
      ]
     },
     "execution_count": 109,
     "metadata": {},
     "output_type": "execute_result"
    }
   ],
   "source": [
    "1-cosine(sum_vec,glove_model['bus'])"
   ]
  },
  {
   "cell_type": "code",
   "execution_count": 110,
   "metadata": {},
   "outputs": [
    {
     "data": {
      "text/plain": [
       "0.67076714049883301"
      ]
     },
     "execution_count": 110,
     "metadata": {},
     "output_type": "execute_result"
    }
   ],
   "source": [
    "1-cosine(glove_model['train'],glove_model['bus'])"
   ]
  },
  {
   "cell_type": "code",
   "execution_count": 21,
   "metadata": {},
   "outputs": [
    {
     "name": "stdout",
     "output_type": "stream",
     "text": [
      "car + trucks  =  [('truck', 0.8649938106536865), ('trucks', 0.8598874807357788)]\n",
      "car + flatbed  =  [('truck', 0.7964094877243042), ('car', 0.7792336940765381)]\n",
      "horse + cows  =  [('horses', 0.8581856489181519), ('cows', 0.8287484645843506)]\n",
      "horse + giraffes  =  [('horses', 0.7635481953620911), ('horse', 0.7488400936126709)]\n",
      "horse + donkeys  =  [('horses', 0.8495331406593323), ('horse', 0.8340033292770386)]\n",
      "horse + animals  =  [('horses', 0.8394337892532349), ('horse', 0.8361673355102539)]\n",
      "man + extremely  =  [('very', 0.8110775947570801), ('man', 0.8020899295806885)]\n",
      "left + fourth  =  [('third', 0.8497422933578491), ('fourth', 0.8385612964630127)]\n",
      "left + sixth  =  [('third', 0.8158323168754578), ('fifth', 0.8147475719451904)]\n"
     ]
    }
   ],
   "source": [
    "seeds = ['car','horse','dog','cat','bed','blue','man','left']\n",
    "for seed in seeds:\n",
    "    for w in glove_model.vocab:\n",
    "        if w != seed:\n",
    "            sim_sum = glove_model.similar_by_vector(glove_model[seed] + glove_model[w],topn=2)\n",
    "            sim_word = sim_sum[0][0]\n",
    "            if sim_word not in [seed,w]:\n",
    "                print(seed,\"+\",w,\" = \",sim_sum)\n",
    "        "
   ]
  },
  {
   "cell_type": "code",
   "execution_count": 22,
   "metadata": {
    "collapsed": true
   },
   "outputs": [],
   "source": [
    "seeds = ['car','horse','dog','cat','bed','blue','man','left']\n",
    "for seed in seeds:\n",
    "    for w in cbow_model.vocab:\n",
    "        if w != seed:\n",
    "            sim_sum = cbow_model.similar_by_vector(cbow_model[seed] + cbow_model[w],topn=2)\n",
    "            sim_word = sim_sum[0][0]\n",
    "            if sim_word not in [seed,w]:\n",
    "                print(seed,\"+\",w,\" = \",sim_sum)"
   ]
  },
  {
   "cell_type": "code",
   "execution_count": 24,
   "metadata": {},
   "outputs": [],
   "source": [
    "v = cbow_model['car'] + cbow_model['trucks']"
   ]
  },
  {
   "cell_type": "code",
   "execution_count": 25,
   "metadata": {},
   "outputs": [
    {
     "data": {
      "text/plain": [
       "(400,)"
      ]
     },
     "execution_count": 25,
     "metadata": {},
     "output_type": "execute_result"
    }
   ],
   "source": [
    "v.shape"
   ]
  },
  {
   "cell_type": "code",
   "execution_count": 28,
   "metadata": {},
   "outputs": [],
   "source": [
    "assert(v[0] == cbow_model['car'][0] + cbow_model['trucks'][0])"
   ]
  },
  {
   "cell_type": "code",
   "execution_count": 29,
   "metadata": {},
   "outputs": [
    {
     "data": {
      "text/plain": [
       "True"
      ]
     },
     "execution_count": 29,
     "metadata": {},
     "output_type": "execute_result"
    }
   ],
   "source": [
    "v[0] == cbow_model['car'][0] + cbow_model['trucks'][0]"
   ]
  },
  {
   "cell_type": "code",
   "execution_count": 30,
   "metadata": {},
   "outputs": [
    {
     "data": {
      "text/plain": [
       "3.6558504"
      ]
     },
     "execution_count": 30,
     "metadata": {},
     "output_type": "execute_result"
    }
   ],
   "source": [
    "np.dot(cbow_model['car'],cbow_model['trucks'])"
   ]
  },
  {
   "cell_type": "code",
   "execution_count": null,
   "metadata": {
    "collapsed": true
   },
   "outputs": [],
   "source": []
  },
  {
   "cell_type": "code",
   "execution_count": null,
   "metadata": {
    "collapsed": true
   },
   "outputs": [],
   "source": []
  },
  {
   "cell_type": "code",
   "execution_count": 51,
   "metadata": {},
   "outputs": [
    {
     "data": {
      "text/plain": [
       "array([ -2.60758013e-01,  -7.03340024e-02,  -1.40745997e-01,\n",
       "        -9.27499961e-03,   5.69950007e-02,   8.80189985e-02,\n",
       "         1.69313997e-01,   1.74356997e-01,  -1.31465003e-01,\n",
       "        -1.48888007e-01,  -1.43814996e-01,   1.94058999e-01,\n",
       "         3.05460002e-02,  -4.10030000e-02,  -8.12400039e-03,\n",
       "        -2.42277995e-01,   1.01135001e-01,  -3.65038007e-01,\n",
       "        -1.62480008e-02,  -2.69403994e-01,   4.83510010e-02,\n",
       "         2.40119994e-01,  -3.15379985e-02,  -1.23741999e-01,\n",
       "         8.65100026e-02,   5.02219982e-02,  -9.99509990e-02,\n",
       "        -1.29056007e-01,  -3.54645014e-01,   4.52449992e-02,\n",
       "        -1.94554999e-01,  -3.25060003e-02,  -9.36419964e-02,\n",
       "         1.12342000e-01,  -5.97280003e-02,  -1.14298001e-01,\n",
       "        -7.14699998e-02,   5.72489984e-02,  -6.81520030e-02,\n",
       "        -9.24640000e-02,   1.07070003e-02,   2.08528996e-01,\n",
       "        -1.39103994e-01,   3.04028004e-01,   1.57637000e-01,\n",
       "         1.73719991e-02,  -1.82906002e-01,  -2.78196007e-01,\n",
       "        -1.65650006e-02,  -8.33029971e-02,   2.24083006e-01,\n",
       "        -1.58785999e-01,  -1.33469999e-02,  -7.82369971e-02,\n",
       "         2.97420006e-02,  -1.10879997e-02,   1.16736002e-01,\n",
       "         1.47106007e-01,   1.28043994e-01,  -8.85140002e-02,\n",
       "         9.78730023e-02,  -1.78360008e-02,   7.69769996e-02,\n",
       "        -1.99034005e-01,  -8.62599984e-02,  -1.75136998e-01,\n",
       "         8.93289968e-02,  -2.61999993e-03,  -4.83920015e-02,\n",
       "        -1.16159998e-01,  -1.98720004e-02,   1.59177005e-01,\n",
       "         1.29179999e-01,  -1.23450002e-02,  -6.26050010e-02,\n",
       "        -2.47479994e-02,  -2.03704000e-01,  -4.49499995e-01,\n",
       "         6.16989993e-02,   4.56719995e-02,   6.92939982e-02,\n",
       "        -3.38919014e-01,  -9.61909965e-02,   1.67346999e-01,\n",
       "         2.64005989e-01,   3.37259993e-02,   4.01378006e-01,\n",
       "        -2.08290994e-01,  -9.65399966e-02,  -6.16800003e-02,\n",
       "         1.53778002e-01,   2.59196013e-01,  -4.83390018e-02,\n",
       "        -5.41999994e-04,   1.53201997e-01,  -2.87151009e-01,\n",
       "         3.11486989e-01,   2.20255002e-01,  -2.93287009e-01,\n",
       "         1.22346997e-01,  -6.32070005e-02,  -6.15129992e-02,\n",
       "        -2.06780005e-02,  -4.17309999e-02,   1.32470001e-02,\n",
       "        -2.97383010e-01,   2.36770008e-02,  -2.46712998e-01,\n",
       "         3.53330001e-02,   5.94960004e-02,  -4.47896004e-01,\n",
       "         1.78720001e-02,   1.08415000e-01,  -3.43223989e-01,\n",
       "        -2.61575997e-01,  -2.30200007e-03,  -8.56809989e-02,\n",
       "        -1.86401993e-01,   6.74720034e-02,  -5.49309999e-02,\n",
       "         2.15382993e-01,  -2.79899989e-03,  -1.98559001e-01,\n",
       "         5.75609989e-02,  -1.76747993e-01,  -1.24909999e-02,\n",
       "        -5.47920018e-02,   1.31281003e-01,   1.58392996e-01,\n",
       "         9.42360014e-02,   2.05771998e-01,  -9.35439989e-02,\n",
       "         2.01990008e-02,  -4.87309992e-02,  -8.83229971e-02,\n",
       "        -8.31250027e-02,  -3.51379007e-01,   1.30022004e-01,\n",
       "         1.77079998e-02,  -2.27830000e-02,  -3.72177988e-01,\n",
       "        -8.29859972e-02,  -2.43018001e-01,   2.39482000e-01,\n",
       "        -7.14349970e-02,  -2.18200008e-03,   5.18129990e-02,\n",
       "        -3.34249996e-02,   1.97309002e-01,  -3.17340009e-02,\n",
       "        -2.78999992e-02,   1.10086001e-01,  -7.89370015e-02,\n",
       "        -1.80544004e-01,  -7.54550025e-02,   1.37642995e-01,\n",
       "         1.28031000e-01,   1.74385995e-01,  -8.94429982e-02,\n",
       "         2.07728997e-01,   1.74557000e-01,  -2.24182993e-01,\n",
       "        -1.91559996e-02,  -3.26909982e-02,  -1.12709999e-01,\n",
       "         4.13796991e-01,   1.14499003e-01,   1.52499997e-03,\n",
       "         7.61199966e-02,   2.75480002e-01,   7.77549967e-02,\n",
       "        -1.07243001e-01,  -1.46348000e-01,   3.17809992e-02,\n",
       "         1.68939997e-02,   1.64628997e-01,  -3.41690004e-01,\n",
       "         1.18541002e-01,  -2.04900000e-03,   1.54689997e-01,\n",
       "         1.89679995e-01,  -1.51881993e-01,   2.70310007e-02,\n",
       "        -3.26860994e-01,   3.61119993e-02,   2.40819994e-02,\n",
       "        -9.16600041e-03,   2.42228001e-01,  -3.99190001e-02,\n",
       "        -1.46576002e-01,   2.10522994e-01,  -3.55919003e-01,\n",
       "         1.92469001e-01,   1.60533994e-01,  -5.27339987e-02,\n",
       "         9.69019979e-02,   1.77772999e-01,   7.01199993e-02,\n",
       "        -1.90194994e-01,   2.57709995e-02,   2.45549995e-02,\n",
       "         7.46849999e-02,   1.29389003e-01,  -1.02720998e-01,\n",
       "         5.26870005e-02,  -2.52831995e-01,   1.90077007e-01,\n",
       "        -7.27420002e-02,  -1.56018004e-01,  -4.68829982e-02,\n",
       "         2.84155011e-01,  -9.77919996e-02,   9.60419998e-02,\n",
       "        -1.73649997e-01,   1.00906998e-01,   4.76090014e-02,\n",
       "        -5.38190007e-02,   4.03399998e-03,  -1.34199997e-02,\n",
       "        -1.30039006e-01,   2.76154011e-01,   1.26649998e-02,\n",
       "        -1.52011007e-01,  -1.22149996e-02,  -1.04332998e-01,\n",
       "        -1.24205999e-01,  -2.22957000e-01,  -2.65515000e-01,\n",
       "         1.04131997e-01,   2.86096990e-01,  -3.76450010e-02,\n",
       "         1.98654994e-01,   2.10269004e-01,  -5.59750974e-01,\n",
       "         1.75797999e-01,  -2.42647007e-01,   1.51580004e-02,\n",
       "         7.56530017e-02,  -1.35435000e-01,   2.82329991e-02,\n",
       "         1.62543997e-01,  -1.81330994e-01,  -6.96590021e-02,\n",
       "        -3.76094013e-01,   1.94290996e-01,  -2.19224006e-01,\n",
       "         1.66090995e-01,   9.95000005e-02,   1.73942998e-01,\n",
       "         1.99924007e-01,   2.01251000e-01,   9.05880034e-02,\n",
       "        -3.91720012e-02,  -2.18144000e-01,  -1.13050997e-01,\n",
       "        -9.14079994e-02,   2.05339000e-01,  -1.85331002e-01,\n",
       "        -1.17279001e-01,   3.04742992e-01,   4.07799985e-03,\n",
       "        -2.15935007e-01,  -1.18509002e-01,  -3.03479992e-02,\n",
       "         3.10021013e-01,   2.18447000e-01,  -5.90789989e-02,\n",
       "         3.67790014e-02,  -9.59300026e-02,   2.37750001e-02,\n",
       "         2.54510008e-02,   6.53698981e-01,   3.22070003e-01,\n",
       "         3.32334995e-01,   9.42690000e-02,  -4.16620001e-02,\n",
       "         2.38681003e-01,   2.13146001e-01,   1.67109996e-01,\n",
       "         1.07349999e-01,  -8.15650001e-02,   1.81088999e-01,\n",
       "        -1.24058001e-01,  -2.37489995e-02,  -9.31930020e-02,\n",
       "        -1.34482995e-01,   1.86617002e-01,   8.74999985e-02,\n",
       "         2.40544006e-01,   1.08920000e-02,  -7.00839981e-02,\n",
       "        -7.74199981e-03,   2.68364012e-01,  -3.76262993e-01,\n",
       "        -7.41780028e-02,   1.71409994e-02,  -2.75288999e-01,\n",
       "         7.64699979e-03,  -5.01499977e-03,   6.02670014e-02,\n",
       "        -1.54980002e-02,  -3.47930007e-02,  -1.48166001e-01,\n",
       "        -1.56957999e-01,   1.38370007e-01,   1.09389000e-01,\n",
       "         8.69650021e-02,   5.65799996e-02,   6.07699994e-03,\n",
       "         5.92800006e-02,   4.40641999e-01,  -5.83200017e-03,\n",
       "        -1.27912998e-01,   9.07069966e-02,   3.63705993e-01,\n",
       "         1.20164998e-01,  -1.22097999e-01,   1.09109998e-01,\n",
       "         1.15570001e-01,   3.18190008e-02,   1.38573006e-01,\n",
       "         1.24389000e-01,  -1.22651003e-01,   1.41589001e-01,\n",
       "         3.80919993e-01,  -2.22670004e-01,   9.16339979e-02,\n",
       "         2.30149999e-01,  -2.27210999e-01,  -2.68649012e-01,\n",
       "        -3.55140008e-02,  -1.09302998e-01,  -1.30872995e-01,\n",
       "         1.14634000e-01,   8.43399987e-02,   6.30090013e-02,\n",
       "        -2.00389996e-02,   1.68870002e-01,  -3.27670015e-02,\n",
       "         2.55712003e-01,   1.31386995e-01,  -1.60788000e-01,\n",
       "        -2.10200008e-02,  -2.00793996e-01,   1.29473999e-01,\n",
       "         2.74753004e-01,   6.75889999e-02,   8.07510018e-02,\n",
       "         7.88979977e-02,  -1.93993002e-01,   2.03835994e-01,\n",
       "        -1.68088004e-01,  -3.27909999e-02,   1.16724998e-01,\n",
       "         2.31181994e-01,  -5.88070005e-02,  -1.54050002e-02,\n",
       "        -2.21441999e-01,  -3.57410014e-02,   1.02420002e-01,\n",
       "         3.43010016e-02,  -3.83329988e-02,  -2.61617988e-01,\n",
       "        -4.54740003e-02,   3.11749011e-01,  -3.18670005e-01,\n",
       "        -3.45380008e-02,   6.34040013e-02,   1.18741997e-01,\n",
       "         4.91480008e-02,  -5.26000001e-03,   9.92859975e-02,\n",
       "         1.86497003e-01,   1.56459995e-02,   1.18031003e-01,\n",
       "         1.09163001e-01,  -6.74200011e-03,   2.57696986e-01,\n",
       "        -1.20668001e-01,   1.02798000e-01,   1.21986002e-01,\n",
       "         5.61649986e-02,  -1.89836994e-01,  -1.17175996e-01,\n",
       "        -2.21777007e-01,  -1.46789998e-02,  -2.12182999e-01,\n",
       "        -6.43770024e-02,   4.62619998e-02,   2.56125987e-01,\n",
       "         1.64260007e-02,  -9.92750004e-02,  -1.49828002e-01,\n",
       "         2.33210996e-01,  -8.98030028e-02,  -6.35899976e-02,\n",
       "        -6.85010031e-02,   2.37656996e-01,   1.28674999e-01,\n",
       "         6.19730018e-02], dtype=float32)"
      ]
     },
     "execution_count": 51,
     "metadata": {},
     "output_type": "execute_result"
    }
   ],
   "source": [
    "cbow_model['cow']"
   ]
  },
  {
   "cell_type": "code",
   "execution_count": null,
   "metadata": {
    "collapsed": true
   },
   "outputs": [],
   "source": []
  },
  {
   "cell_type": "code",
   "execution_count": 50,
   "metadata": {},
   "outputs": [
    {
     "data": {
      "text/plain": [
       "[('cow', 0.8819707036018372),\n",
       " ('cows', 0.5861097574234009),\n",
       " ('calf', 0.5459157228469849),\n",
       " ('udders', 0.5264468789100647),\n",
       " ('horse', 0.4965650737285614)]"
      ]
     },
     "execution_count": 50,
     "metadata": {},
     "output_type": "execute_result"
    }
   ],
   "source": [
    "cbow_model.similar_by_vector(cbow_model['cow'] + 0.4*cbow_model['riding'] + 0.4*cbow_model['leg'],topn=5)"
   ]
  },
  {
   "cell_type": "code",
   "execution_count": 42,
   "metadata": {},
   "outputs": [
    {
     "data": {
      "text/plain": [
       "[('dried', 0.21771013736724854),\n",
       " ('mayor', 0.19192665815353394),\n",
       " ('acorns', 0.1889016330242157),\n",
       " ('leaf', 0.18425947427749634),\n",
       " ('leafs', 0.17793048918247223)]"
      ]
     },
     "execution_count": 42,
     "metadata": {},
     "output_type": "execute_result"
    }
   ],
   "source": [
    "cbow_model.similar_by_vector(cbow_model['cow'] * cbow_model['riding'],topn=5)"
   ]
  },
  {
   "cell_type": "code",
   "execution_count": 122,
   "metadata": {},
   "outputs": [
    {
     "data": {
      "text/plain": [
       "[('cow', 1.0),\n",
       " ('cows', 0.7157833576202393),\n",
       " ('mad', 0.6735858917236328),\n",
       " ('bovine', 0.6667905449867249),\n",
       " ('cattle', 0.6248130798339844),\n",
       " ('sheep', 0.596968412399292),\n",
       " ('beef', 0.5827497243881226),\n",
       " ('goat', 0.5626482963562012),\n",
       " ('pig', 0.5351741313934326),\n",
       " ('meat', 0.5321629643440247)]"
      ]
     },
     "execution_count": 122,
     "metadata": {},
     "output_type": "execute_result"
    }
   ],
   "source": [
    "glove_model.similar_by_vector(glove_model['cow'],topn=10)"
   ]
  },
  {
   "cell_type": "code",
   "execution_count": 31,
   "metadata": {},
   "outputs": [
    {
     "data": {
      "text/plain": [
       "0.21339471356266515"
      ]
     },
     "execution_count": 31,
     "metadata": {},
     "output_type": "execute_result"
    }
   ],
   "source": [
    "glove_model.similarity('cow','riding')"
   ]
  },
  {
   "cell_type": "code",
   "execution_count": 32,
   "metadata": {},
   "outputs": [
    {
     "data": {
      "text/plain": [
       "0.12516341304137707"
      ]
     },
     "execution_count": 32,
     "metadata": {},
     "output_type": "execute_result"
    }
   ],
   "source": [
    "glove_model.similarity('cow','left')"
   ]
  },
  {
   "cell_type": "code",
   "execution_count": 33,
   "metadata": {},
   "outputs": [
    {
     "data": {
      "text/plain": [
       "0.71578337006980597"
      ]
     },
     "execution_count": 33,
     "metadata": {},
     "output_type": "execute_result"
    }
   ],
   "source": [
    "glove_model.similarity('cow','cows')"
   ]
  },
  {
   "cell_type": "code",
   "execution_count": 34,
   "metadata": {},
   "outputs": [
    {
     "data": {
      "text/plain": [
       "0.42092965899493234"
      ]
     },
     "execution_count": 34,
     "metadata": {},
     "output_type": "execute_result"
    }
   ],
   "source": [
    "glove_model.similarity('cow','horse')"
   ]
  },
  {
   "cell_type": "code",
   "execution_count": null,
   "metadata": {
    "collapsed": true
   },
   "outputs": [],
   "source": []
  },
  {
   "cell_type": "code",
   "execution_count": 120,
   "metadata": {},
   "outputs": [
    {
     "data": {
      "text/plain": [
       "[('couch', 1.0),\n",
       " ('sofa', 0.6295238733291626),\n",
       " ('couches', 0.5716592669487),\n",
       " ('sitting', 0.5219179391860962),\n",
       " ('lounging', 0.49838778376579285),\n",
       " ('cushions', 0.4883556663990021),\n",
       " ('armchair', 0.48371925950050354),\n",
       " ('bed', 0.4826846718788147),\n",
       " ('recliner', 0.48102957010269165),\n",
       " ('asleep', 0.47139671444892883)]"
      ]
     },
     "execution_count": 120,
     "metadata": {},
     "output_type": "execute_result"
    }
   ],
   "source": [
    "glove_model.similar_by_vector(glove_model['couch'],topn=10)"
   ]
  },
  {
   "cell_type": "code",
   "execution_count": 125,
   "metadata": {},
   "outputs": [
    {
     "data": {
      "text/plain": [
       "[('sofa', 0.8632580041885376),\n",
       " ('couch', 0.8238006234169006),\n",
       " ('pillows', 0.7935529947280884),\n",
       " ('couches', 0.6973887085914612),\n",
       " ('cushions', 0.6853867173194885),\n",
       " ('mattress', 0.600668728351593),\n",
       " ('upholstered', 0.5891541242599487),\n",
       " ('bed', 0.5732811689376831),\n",
       " ('pillow', 0.5685983896255493),\n",
       " ('curtains', 0.5427563786506653)]"
      ]
     },
     "execution_count": 125,
     "metadata": {},
     "output_type": "execute_result"
    }
   ],
   "source": [
    "glove_model.similar_by_vector(glove_model['couch']+glove_model['sofa']+glove_model['pillows'],topn=10)"
   ]
  },
  {
   "cell_type": "code",
   "execution_count": 128,
   "metadata": {},
   "outputs": [
    {
     "data": {
      "text/plain": [
       "[('sofa', 0.8043059706687927),\n",
       " ('couch', 0.7828922271728516),\n",
       " ('red', 0.5984403491020203),\n",
       " ('couches', 0.5368978977203369),\n",
       " ('cushions', 0.5299590826034546),\n",
       " ('sitting', 0.5292019248008728),\n",
       " ('bed', 0.5176485776901245),\n",
       " ('room', 0.5005917549133301),\n",
       " ('velvet', 0.49743711948394775),\n",
       " ('pink', 0.4857308268547058)]"
      ]
     },
     "execution_count": 128,
     "metadata": {},
     "output_type": "execute_result"
    }
   ],
   "source": [
    "glove_model.similar_by_vector(glove_model['couch']+glove_model['red']+glove_model['sofa'],topn=10)"
   ]
  },
  {
   "cell_type": "code",
   "execution_count": 137,
   "metadata": {},
   "outputs": [
    {
     "data": {
      "text/plain": [
       "[('car', 0.9081412553787231),\n",
       " ('vehicle', 0.8591530323028564),\n",
       " ('truck', 0.8455815315246582),\n",
       " ('cars', 0.7415859699249268),\n",
       " ('vehicles', 0.7174458503723145),\n",
       " ('driver', 0.6897912621498108),\n",
       " ('bicycle', 0.6685762405395508),\n",
       " ('motorcycle', 0.6672142744064331),\n",
       " ('bike', 0.6663811206817627),\n",
       " ('driving', 0.655143141746521)]"
      ]
     },
     "execution_count": 137,
     "metadata": {},
     "output_type": "execute_result"
    }
   ],
   "source": [
    "glove_model.similar_by_vector(glove_model['bike']+glove_model['truck']+glove_model['vehicle']+glove_model['car'],topn=10)"
   ]
  },
  {
   "cell_type": "code",
   "execution_count": null,
   "metadata": {
    "collapsed": true
   },
   "outputs": [],
   "source": []
  },
  {
   "cell_type": "code",
   "execution_count": null,
   "metadata": {
    "collapsed": true
   },
   "outputs": [],
   "source": []
  },
  {
   "cell_type": "code",
   "execution_count": 130,
   "metadata": {
    "collapsed": true
   },
   "outputs": [],
   "source": [
    "a = np.array([0.5,0.4,0.1])\n",
    "b = np.array([0.5,0.1,0.4])\n",
    "c = np.array([0.5,0.3,0.2])\n"
   ]
  },
  {
   "cell_type": "code",
   "execution_count": 134,
   "metadata": {},
   "outputs": [
    {
     "data": {
      "text/plain": [
       "0.41588830833596713"
      ]
     },
     "execution_count": 134,
     "metadata": {},
     "output_type": "execute_result"
    }
   ],
   "source": [
    "np.sum(a*np.log(a/b))"
   ]
  },
  {
   "cell_type": "code",
   "execution_count": 135,
   "metadata": {},
   "outputs": [
    {
     "data": {
      "text/plain": [
       "0.04575811092471789"
      ]
     },
     "execution_count": 135,
     "metadata": {},
     "output_type": "execute_result"
    }
   ],
   "source": [
    "np.sum(a*np.log(a/c))"
   ]
  },
  {
   "cell_type": "code",
   "execution_count": 70,
   "metadata": {
    "collapsed": true
   },
   "outputs": [],
   "source": [
    "refdf_path = \"refcoco_refdf_heads.json.gz\"\n",
    "refdf = pd.read_json(refdf_path,compression='gzip', orient='split')"
   ]
  },
  {
   "cell_type": "code",
   "execution_count": 71,
   "metadata": {},
   "outputs": [
    {
     "data": {
      "text/html": [
       "<div>\n",
       "<style scoped>\n",
       "    .dataframe tbody tr th:only-of-type {\n",
       "        vertical-align: middle;\n",
       "    }\n",
       "\n",
       "    .dataframe tbody tr th {\n",
       "        vertical-align: top;\n",
       "    }\n",
       "\n",
       "    .dataframe thead th {\n",
       "        text-align: right;\n",
       "    }\n",
       "</style>\n",
       "<table border=\"1\" class=\"dataframe\">\n",
       "  <thead>\n",
       "    <tr style=\"text-align: right;\">\n",
       "      <th></th>\n",
       "      <th>i_corpus</th>\n",
       "      <th>image_id</th>\n",
       "      <th>region_id</th>\n",
       "      <th>names</th>\n",
       "      <th>refexps</th>\n",
       "      <th>cat</th>\n",
       "      <th>ix_Xfile</th>\n",
       "    </tr>\n",
       "  </thead>\n",
       "  <tbody>\n",
       "    <tr>\n",
       "      <th>0</th>\n",
       "      <td>1</td>\n",
       "      <td>581857</td>\n",
       "      <td>1719310</td>\n",
       "      <td>[person, lady, shirt]</td>\n",
       "      <td>[the lady with the blue shirt, lady with back ...</td>\n",
       "      <td>1</td>\n",
       "      <td>34271</td>\n",
       "    </tr>\n",
       "    <tr>\n",
       "      <th>1</th>\n",
       "      <td>1</td>\n",
       "      <td>581857</td>\n",
       "      <td>463958</td>\n",
       "      <td>[person, woman]</td>\n",
       "      <td>[woman in gray shirt facing camera on right, w...</td>\n",
       "      <td>1</td>\n",
       "      <td>34270</td>\n",
       "    </tr>\n",
       "    <tr>\n",
       "      <th>2</th>\n",
       "      <td>1</td>\n",
       "      <td>581839</td>\n",
       "      <td>495152</td>\n",
       "      <td>[person]</td>\n",
       "      <td>[person standing u]</td>\n",
       "      <td>1</td>\n",
       "      <td>34771</td>\n",
       "    </tr>\n",
       "    <tr>\n",
       "      <th>3</th>\n",
       "      <td>1</td>\n",
       "      <td>581839</td>\n",
       "      <td>485695</td>\n",
       "      <td>[person, girl, lady, woman]</td>\n",
       "      <td>[lady sitting on right, right girl on floor, w...</td>\n",
       "      <td>1</td>\n",
       "      <td>34770</td>\n",
       "    </tr>\n",
       "    <tr>\n",
       "      <th>4</th>\n",
       "      <td>1</td>\n",
       "      <td>581789</td>\n",
       "      <td>453177</td>\n",
       "      <td>[person, woman]</td>\n",
       "      <td>[woman, left person, woman under suitcase]</td>\n",
       "      <td>1</td>\n",
       "      <td>32032</td>\n",
       "    </tr>\n",
       "    <tr>\n",
       "      <th>5</th>\n",
       "      <td>1</td>\n",
       "      <td>581789</td>\n",
       "      <td>440706</td>\n",
       "      <td>[person, man]</td>\n",
       "      <td>[man in jacket, man trying to help with suitca...</td>\n",
       "      <td>1</td>\n",
       "      <td>32031</td>\n",
       "    </tr>\n",
       "    <tr>\n",
       "      <th>6</th>\n",
       "      <td>1</td>\n",
       "      <td>581766</td>\n",
       "      <td>1097431</td>\n",
       "      <td>[toilet]</td>\n",
       "      <td>[left most toilet, far left toilet]</td>\n",
       "      <td>70</td>\n",
       "      <td>46501</td>\n",
       "    </tr>\n",
       "    <tr>\n",
       "      <th>7</th>\n",
       "      <td>1</td>\n",
       "      <td>581766</td>\n",
       "      <td>1093269</td>\n",
       "      <td>[toilet]</td>\n",
       "      <td>[]</td>\n",
       "      <td>70</td>\n",
       "      <td>46500</td>\n",
       "    </tr>\n",
       "    <tr>\n",
       "      <th>8</th>\n",
       "      <td>1</td>\n",
       "      <td>581739</td>\n",
       "      <td>1154905</td>\n",
       "      <td>[vase]</td>\n",
       "      <td>[right vase, right most vase]</td>\n",
       "      <td>86</td>\n",
       "      <td>47155</td>\n",
       "    </tr>\n",
       "    <tr>\n",
       "      <th>9</th>\n",
       "      <td>1</td>\n",
       "      <td>581739</td>\n",
       "      <td>1152539</td>\n",
       "      <td>[vase]</td>\n",
       "      <td>[middle vase, center vase]</td>\n",
       "      <td>86</td>\n",
       "      <td>47154</td>\n",
       "    </tr>\n",
       "    <tr>\n",
       "      <th>10</th>\n",
       "      <td>1</td>\n",
       "      <td>581739</td>\n",
       "      <td>1151495</td>\n",
       "      <td>[vase]</td>\n",
       "      <td>[left vase, left vase]</td>\n",
       "      <td>86</td>\n",
       "      <td>47153</td>\n",
       "    </tr>\n",
       "    <tr>\n",
       "      <th>11</th>\n",
       "      <td>1</td>\n",
       "      <td>581738</td>\n",
       "      <td>247896</td>\n",
       "      <td>[buss, bus]</td>\n",
       "      <td>[bus on the left, left buss, red bus on the left]</td>\n",
       "      <td>6</td>\n",
       "      <td>13415</td>\n",
       "    </tr>\n",
       "    <tr>\n",
       "      <th>12</th>\n",
       "      <td>1</td>\n",
       "      <td>581738</td>\n",
       "      <td>165092</td>\n",
       "      <td>[bus]</td>\n",
       "      <td>[bus in front, right bus, whole bus]</td>\n",
       "      <td>6</td>\n",
       "      <td>13414</td>\n",
       "    </tr>\n",
       "    <tr>\n",
       "      <th>13</th>\n",
       "      <td>1</td>\n",
       "      <td>581719</td>\n",
       "      <td>2204728</td>\n",
       "      <td>[person, girl, hair, head]</td>\n",
       "      <td>[the head just behind the girl on leftin the m...</td>\n",
       "      <td>1</td>\n",
       "      <td>37475</td>\n",
       "    </tr>\n",
       "    <tr>\n",
       "      <th>14</th>\n",
       "      <td>1</td>\n",
       "      <td>581719</td>\n",
       "      <td>516523</td>\n",
       "      <td>[person, kid, player]</td>\n",
       "      <td>[left kid, player left, left player front]</td>\n",
       "      <td>1</td>\n",
       "      <td>37474</td>\n",
       "    </tr>\n",
       "    <tr>\n",
       "      <th>15</th>\n",
       "      <td>1</td>\n",
       "      <td>581719</td>\n",
       "      <td>511746</td>\n",
       "      <td>[person, boy, kid]</td>\n",
       "      <td>[boy, kid looking at you, boy front]</td>\n",
       "      <td>1</td>\n",
       "      <td>37473</td>\n",
       "    </tr>\n",
       "    <tr>\n",
       "      <th>16</th>\n",
       "      <td>1</td>\n",
       "      <td>581686</td>\n",
       "      <td>41223</td>\n",
       "      <td>[bird]</td>\n",
       "      <td>[bird on right, right bird, right bird]</td>\n",
       "      <td>16</td>\n",
       "      <td>3824</td>\n",
       "    </tr>\n",
       "    <tr>\n",
       "      <th>17</th>\n",
       "      <td>1</td>\n",
       "      <td>581686</td>\n",
       "      <td>38565</td>\n",
       "      <td>[bird]</td>\n",
       "      <td>[left bird, left bird, bird on left]</td>\n",
       "      <td>16</td>\n",
       "      <td>3823</td>\n",
       "    </tr>\n",
       "    <tr>\n",
       "      <th>18</th>\n",
       "      <td>1</td>\n",
       "      <td>581657</td>\n",
       "      <td>1103476</td>\n",
       "      <td>[laptop]</td>\n",
       "      <td>[second laptop from front right center, laptop...</td>\n",
       "      <td>73</td>\n",
       "      <td>23224</td>\n",
       "    </tr>\n",
       "    <tr>\n",
       "      <th>19</th>\n",
       "      <td>1</td>\n",
       "      <td>581657</td>\n",
       "      <td>1101817</td>\n",
       "      <td>[monitor, laptop]</td>\n",
       "      <td>[the laptop nearest us, monitor left]</td>\n",
       "      <td>73</td>\n",
       "      <td>23223</td>\n",
       "    </tr>\n",
       "    <tr>\n",
       "      <th>20</th>\n",
       "      <td>1</td>\n",
       "      <td>581657</td>\n",
       "      <td>556799</td>\n",
       "      <td>[person, hand]</td>\n",
       "      <td>[hand in the front bottom right, fronnt hand]</td>\n",
       "      <td>1</td>\n",
       "      <td>23222</td>\n",
       "    </tr>\n",
       "    <tr>\n",
       "      <th>21</th>\n",
       "      <td>1</td>\n",
       "      <td>581657</td>\n",
       "      <td>1758997</td>\n",
       "      <td>[person]</td>\n",
       "      <td>[]</td>\n",
       "      <td>1</td>\n",
       "      <td>23225</td>\n",
       "    </tr>\n",
       "    <tr>\n",
       "      <th>22</th>\n",
       "      <td>1</td>\n",
       "      <td>581629</td>\n",
       "      <td>2157900</td>\n",
       "      <td>[person, hat, man, dude]</td>\n",
       "      <td>[man on left white hat, left dude, hat]</td>\n",
       "      <td>1</td>\n",
       "      <td>23259</td>\n",
       "    </tr>\n",
       "    <tr>\n",
       "      <th>23</th>\n",
       "      <td>1</td>\n",
       "      <td>581629</td>\n",
       "      <td>508442</td>\n",
       "      <td>[person, guy, man]</td>\n",
       "      <td>[guy on right, bald man, bald guy]</td>\n",
       "      <td>1</td>\n",
       "      <td>23258</td>\n",
       "    </tr>\n",
       "    <tr>\n",
       "      <th>24</th>\n",
       "      <td>1</td>\n",
       "      <td>581629</td>\n",
       "      <td>500335</td>\n",
       "      <td>[person, girl, woman]</td>\n",
       "      <td>[center girl, woman, woman]</td>\n",
       "      <td>1</td>\n",
       "      <td>23257</td>\n",
       "    </tr>\n",
       "    <tr>\n",
       "      <th>25</th>\n",
       "      <td>1</td>\n",
       "      <td>581563</td>\n",
       "      <td>1345868</td>\n",
       "      <td>[car, van]</td>\n",
       "      <td>[black van in front of cab]</td>\n",
       "      <td>3</td>\n",
       "      <td>25497</td>\n",
       "    </tr>\n",
       "    <tr>\n",
       "      <th>26</th>\n",
       "      <td>1</td>\n",
       "      <td>581563</td>\n",
       "      <td>344837</td>\n",
       "      <td>[car, taxi]</td>\n",
       "      <td>[taxi, the taxi cab bottom right, taxi]</td>\n",
       "      <td>3</td>\n",
       "      <td>25496</td>\n",
       "    </tr>\n",
       "    <tr>\n",
       "      <th>27</th>\n",
       "      <td>1</td>\n",
       "      <td>581518</td>\n",
       "      <td>1082811</td>\n",
       "      <td>[donut]</td>\n",
       "      <td>[top donut, top donut]</td>\n",
       "      <td>60</td>\n",
       "      <td>46235</td>\n",
       "    </tr>\n",
       "    <tr>\n",
       "      <th>28</th>\n",
       "      <td>1</td>\n",
       "      <td>581518</td>\n",
       "      <td>1081593</td>\n",
       "      <td>[donut]</td>\n",
       "      <td>[donut wcolored sprinkles, middle donut with s...</td>\n",
       "      <td>60</td>\n",
       "      <td>46234</td>\n",
       "    </tr>\n",
       "    <tr>\n",
       "      <th>29</th>\n",
       "      <td>1</td>\n",
       "      <td>581481</td>\n",
       "      <td>2218461</td>\n",
       "      <td>[thing, half, sandwich, chicken]</td>\n",
       "      <td>[right half, what are these foods thing on the...</td>\n",
       "      <td>54</td>\n",
       "      <td>21785</td>\n",
       "    </tr>\n",
       "    <tr>\n",
       "      <th>...</th>\n",
       "      <td>...</td>\n",
       "      <td>...</td>\n",
       "      <td>...</td>\n",
       "      <td>...</td>\n",
       "      <td>...</td>\n",
       "      <td>...</td>\n",
       "      <td>...</td>\n",
       "    </tr>\n",
       "    <tr>\n",
       "      <th>49835</th>\n",
       "      <td>1</td>\n",
       "      <td>321</td>\n",
       "      <td>1069354</td>\n",
       "      <td>[dog, hotdog, one]</td>\n",
       "      <td>[hot dog with onions on it, top hot dog, one w...</td>\n",
       "      <td>58</td>\n",
       "      <td>45468</td>\n",
       "    </tr>\n",
       "    <tr>\n",
       "      <th>49836</th>\n",
       "      <td>1</td>\n",
       "      <td>312</td>\n",
       "      <td>585413</td>\n",
       "      <td>[elephant]</td>\n",
       "      <td>[elephant far right, very right elephant]</td>\n",
       "      <td>22</td>\n",
       "      <td>39012</td>\n",
       "    </tr>\n",
       "    <tr>\n",
       "      <th>49837</th>\n",
       "      <td>1</td>\n",
       "      <td>312</td>\n",
       "      <td>582145</td>\n",
       "      <td>[elephant]</td>\n",
       "      <td>[elephant on left, left elephant]</td>\n",
       "      <td>22</td>\n",
       "      <td>39011</td>\n",
       "    </tr>\n",
       "    <tr>\n",
       "      <th>49838</th>\n",
       "      <td>1</td>\n",
       "      <td>309</td>\n",
       "      <td>1996153</td>\n",
       "      <td>[legs, teddy, bears, feet]</td>\n",
       "      <td>[legs on bear, bear feet, bears feet only]</td>\n",
       "      <td>88</td>\n",
       "      <td>47680</td>\n",
       "    </tr>\n",
       "    <tr>\n",
       "      <th>49839</th>\n",
       "      <td>1</td>\n",
       "      <td>309</td>\n",
       "      <td>1162241</td>\n",
       "      <td>[teddy, head]</td>\n",
       "      <td>[middle bear head to the right of that red thi...</td>\n",
       "      <td>88</td>\n",
       "      <td>47679</td>\n",
       "    </tr>\n",
       "    <tr>\n",
       "      <th>49840</th>\n",
       "      <td>1</td>\n",
       "      <td>309</td>\n",
       "      <td>1161269</td>\n",
       "      <td>[teddy, bear, section, bears]</td>\n",
       "      <td>[bear arms, bears arms, middle section of tedd...</td>\n",
       "      <td>88</td>\n",
       "      <td>47678</td>\n",
       "    </tr>\n",
       "    <tr>\n",
       "      <th>49841</th>\n",
       "      <td>1</td>\n",
       "      <td>308</td>\n",
       "      <td>533096</td>\n",
       "      <td>[person, guy, man]</td>\n",
       "      <td>[man wearing apron, man on right apron, guy on...</td>\n",
       "      <td>1</td>\n",
       "      <td>30450</td>\n",
       "    </tr>\n",
       "    <tr>\n",
       "      <th>49842</th>\n",
       "      <td>1</td>\n",
       "      <td>308</td>\n",
       "      <td>518350</td>\n",
       "      <td>[person, guy]</td>\n",
       "      <td>[guy gray hat, guy with the blue hat]</td>\n",
       "      <td>1</td>\n",
       "      <td>30449</td>\n",
       "    </tr>\n",
       "    <tr>\n",
       "      <th>49843</th>\n",
       "      <td>1</td>\n",
       "      <td>308</td>\n",
       "      <td>516907</td>\n",
       "      <td>[person, woman, shirt]</td>\n",
       "      <td>[woman in blue, woman in blue, left side blue ...</td>\n",
       "      <td>1</td>\n",
       "      <td>30448</td>\n",
       "    </tr>\n",
       "    <tr>\n",
       "      <th>49844</th>\n",
       "      <td>1</td>\n",
       "      <td>308</td>\n",
       "      <td>426807</td>\n",
       "      <td>[person, guy, man]</td>\n",
       "      <td>[guy in white striped shirt, man looking down ...</td>\n",
       "      <td>1</td>\n",
       "      <td>30447</td>\n",
       "    </tr>\n",
       "    <tr>\n",
       "      <th>49845</th>\n",
       "      <td>1</td>\n",
       "      <td>263</td>\n",
       "      <td>1821534</td>\n",
       "      <td>[elephant, one]</td>\n",
       "      <td>[the elephant behind, the one behind, back ele...</td>\n",
       "      <td>22</td>\n",
       "      <td>39008</td>\n",
       "    </tr>\n",
       "    <tr>\n",
       "      <th>49846</th>\n",
       "      <td>1</td>\n",
       "      <td>263</td>\n",
       "      <td>582104</td>\n",
       "      <td>[baby, elephant]</td>\n",
       "      <td>[smaller elephant, tiny elephant, the elephant...</td>\n",
       "      <td>22</td>\n",
       "      <td>39007</td>\n",
       "    </tr>\n",
       "    <tr>\n",
       "      <th>49847</th>\n",
       "      <td>1</td>\n",
       "      <td>201</td>\n",
       "      <td>617768</td>\n",
       "      <td>[board, snowboard]</td>\n",
       "      <td>[snowboard second from right, second from righ...</td>\n",
       "      <td>36</td>\n",
       "      <td>41581</td>\n",
       "    </tr>\n",
       "    <tr>\n",
       "      <th>49848</th>\n",
       "      <td>1</td>\n",
       "      <td>201</td>\n",
       "      <td>617326</td>\n",
       "      <td>[board, snowboard]</td>\n",
       "      <td>[snowboard on the right, first board on right]</td>\n",
       "      <td>36</td>\n",
       "      <td>41580</td>\n",
       "    </tr>\n",
       "    <tr>\n",
       "      <th>49849</th>\n",
       "      <td>1</td>\n",
       "      <td>165</td>\n",
       "      <td>487235</td>\n",
       "      <td>[person, guy, man]</td>\n",
       "      <td>[man on the left, guy getting something, the m...</td>\n",
       "      <td>1</td>\n",
       "      <td>18516</td>\n",
       "    </tr>\n",
       "    <tr>\n",
       "      <th>49850</th>\n",
       "      <td>1</td>\n",
       "      <td>165</td>\n",
       "      <td>443487</td>\n",
       "      <td>[person, girl, woman, camo, lady]</td>\n",
       "      <td>[woman on the right, military lady on the righ...</td>\n",
       "      <td>1</td>\n",
       "      <td>18515</td>\n",
       "    </tr>\n",
       "    <tr>\n",
       "      <th>49851</th>\n",
       "      <td>1</td>\n",
       "      <td>154</td>\n",
       "      <td>590623</td>\n",
       "      <td>[zebra, giraffe]</td>\n",
       "      <td>[zebra in the middle, giraffe in the middle, m...</td>\n",
       "      <td>24</td>\n",
       "      <td>40166</td>\n",
       "    </tr>\n",
       "    <tr>\n",
       "      <th>49852</th>\n",
       "      <td>1</td>\n",
       "      <td>154</td>\n",
       "      <td>590410</td>\n",
       "      <td>[zebra, butt]</td>\n",
       "      <td>[zebra at the bottom, the zebra in the foregro...</td>\n",
       "      <td>24</td>\n",
       "      <td>40165</td>\n",
       "    </tr>\n",
       "    <tr>\n",
       "      <th>49853</th>\n",
       "      <td>1</td>\n",
       "      <td>144</td>\n",
       "      <td>1414540</td>\n",
       "      <td>[giraffe]</td>\n",
       "      <td>[giraffe on the left, giraffe on the left, lef...</td>\n",
       "      <td>25</td>\n",
       "      <td>40798</td>\n",
       "    </tr>\n",
       "    <tr>\n",
       "      <th>49854</th>\n",
       "      <td>1</td>\n",
       "      <td>144</td>\n",
       "      <td>596031</td>\n",
       "      <td>[giraffe]</td>\n",
       "      <td>[giraffe in the middle, middle giraffe, the mi...</td>\n",
       "      <td>25</td>\n",
       "      <td>40797</td>\n",
       "    </tr>\n",
       "    <tr>\n",
       "      <th>49855</th>\n",
       "      <td>1</td>\n",
       "      <td>144</td>\n",
       "      <td>595892</td>\n",
       "      <td>[giraffe]</td>\n",
       "      <td>[giraffe on the right, giraffe bending down, f...</td>\n",
       "      <td>25</td>\n",
       "      <td>40796</td>\n",
       "    </tr>\n",
       "    <tr>\n",
       "      <th>49856</th>\n",
       "      <td>1</td>\n",
       "      <td>113</td>\n",
       "      <td>1723247</td>\n",
       "      <td>[person, lady, woman]</td>\n",
       "      <td>[lady cutting the cake, woman, woman cutting t...</td>\n",
       "      <td>1</td>\n",
       "      <td>27755</td>\n",
       "    </tr>\n",
       "    <tr>\n",
       "      <th>49857</th>\n",
       "      <td>1</td>\n",
       "      <td>113</td>\n",
       "      <td>1207747</td>\n",
       "      <td>[person, guy, man]</td>\n",
       "      <td>[man on the right, person on the right, man on...</td>\n",
       "      <td>1</td>\n",
       "      <td>27754</td>\n",
       "    </tr>\n",
       "    <tr>\n",
       "      <th>49858</th>\n",
       "      <td>1</td>\n",
       "      <td>113</td>\n",
       "      <td>505536</td>\n",
       "      <td>[person, man]</td>\n",
       "      <td>[man on left, man left, left man]</td>\n",
       "      <td>1</td>\n",
       "      <td>27753</td>\n",
       "    </tr>\n",
       "    <tr>\n",
       "      <th>49859</th>\n",
       "      <td>1</td>\n",
       "      <td>110</td>\n",
       "      <td>1279416</td>\n",
       "      <td>[person, girl, hair]</td>\n",
       "      <td>[girl in very center with red coat on chair, b...</td>\n",
       "      <td>1</td>\n",
       "      <td>27599</td>\n",
       "    </tr>\n",
       "    <tr>\n",
       "      <th>49860</th>\n",
       "      <td>1</td>\n",
       "      <td>110</td>\n",
       "      <td>1220393</td>\n",
       "      <td>[person, girl]</td>\n",
       "      <td>[girl on left, little girl on left]</td>\n",
       "      <td>1</td>\n",
       "      <td>27598</td>\n",
       "    </tr>\n",
       "    <tr>\n",
       "      <th>49861</th>\n",
       "      <td>1</td>\n",
       "      <td>110</td>\n",
       "      <td>1210262</td>\n",
       "      <td>[person, woman, mom]</td>\n",
       "      <td>[mom in blue shirt, woman right, woman]</td>\n",
       "      <td>1</td>\n",
       "      <td>27597</td>\n",
       "    </tr>\n",
       "    <tr>\n",
       "      <th>49862</th>\n",
       "      <td>1</td>\n",
       "      <td>110</td>\n",
       "      <td>1299043</td>\n",
       "      <td>[person, girl, lady]</td>\n",
       "      <td>[leftmost lady showing her back in black shirt...</td>\n",
       "      <td>1</td>\n",
       "      <td>27600</td>\n",
       "    </tr>\n",
       "    <tr>\n",
       "      <th>49863</th>\n",
       "      <td>1</td>\n",
       "      <td>72</td>\n",
       "      <td>600276</td>\n",
       "      <td>[giraffe]</td>\n",
       "      <td>[giraffe on left, left giraffe, left giraffe]</td>\n",
       "      <td>25</td>\n",
       "      <td>41159</td>\n",
       "    </tr>\n",
       "    <tr>\n",
       "      <th>49864</th>\n",
       "      <td>1</td>\n",
       "      <td>72</td>\n",
       "      <td>598731</td>\n",
       "      <td>[giraffe]</td>\n",
       "      <td>[right giraffe]</td>\n",
       "      <td>25</td>\n",
       "      <td>41158</td>\n",
       "    </tr>\n",
       "  </tbody>\n",
       "</table>\n",
       "<p>49865 rows × 7 columns</p>\n",
       "</div>"
      ],
      "text/plain": [
       "       i_corpus  image_id  region_id                              names  \\\n",
       "0             1    581857    1719310              [person, lady, shirt]   \n",
       "1             1    581857     463958                    [person, woman]   \n",
       "2             1    581839     495152                           [person]   \n",
       "3             1    581839     485695        [person, girl, lady, woman]   \n",
       "4             1    581789     453177                    [person, woman]   \n",
       "5             1    581789     440706                      [person, man]   \n",
       "6             1    581766    1097431                           [toilet]   \n",
       "7             1    581766    1093269                           [toilet]   \n",
       "8             1    581739    1154905                             [vase]   \n",
       "9             1    581739    1152539                             [vase]   \n",
       "10            1    581739    1151495                             [vase]   \n",
       "11            1    581738     247896                        [buss, bus]   \n",
       "12            1    581738     165092                              [bus]   \n",
       "13            1    581719    2204728         [person, girl, hair, head]   \n",
       "14            1    581719     516523              [person, kid, player]   \n",
       "15            1    581719     511746                 [person, boy, kid]   \n",
       "16            1    581686      41223                             [bird]   \n",
       "17            1    581686      38565                             [bird]   \n",
       "18            1    581657    1103476                           [laptop]   \n",
       "19            1    581657    1101817                  [monitor, laptop]   \n",
       "20            1    581657     556799                     [person, hand]   \n",
       "21            1    581657    1758997                           [person]   \n",
       "22            1    581629    2157900           [person, hat, man, dude]   \n",
       "23            1    581629     508442                 [person, guy, man]   \n",
       "24            1    581629     500335              [person, girl, woman]   \n",
       "25            1    581563    1345868                         [car, van]   \n",
       "26            1    581563     344837                        [car, taxi]   \n",
       "27            1    581518    1082811                            [donut]   \n",
       "28            1    581518    1081593                            [donut]   \n",
       "29            1    581481    2218461   [thing, half, sandwich, chicken]   \n",
       "...         ...       ...        ...                                ...   \n",
       "49835         1       321    1069354                 [dog, hotdog, one]   \n",
       "49836         1       312     585413                         [elephant]   \n",
       "49837         1       312     582145                         [elephant]   \n",
       "49838         1       309    1996153         [legs, teddy, bears, feet]   \n",
       "49839         1       309    1162241                      [teddy, head]   \n",
       "49840         1       309    1161269      [teddy, bear, section, bears]   \n",
       "49841         1       308     533096                 [person, guy, man]   \n",
       "49842         1       308     518350                      [person, guy]   \n",
       "49843         1       308     516907             [person, woman, shirt]   \n",
       "49844         1       308     426807                 [person, guy, man]   \n",
       "49845         1       263    1821534                    [elephant, one]   \n",
       "49846         1       263     582104                   [baby, elephant]   \n",
       "49847         1       201     617768                 [board, snowboard]   \n",
       "49848         1       201     617326                 [board, snowboard]   \n",
       "49849         1       165     487235                 [person, guy, man]   \n",
       "49850         1       165     443487  [person, girl, woman, camo, lady]   \n",
       "49851         1       154     590623                   [zebra, giraffe]   \n",
       "49852         1       154     590410                      [zebra, butt]   \n",
       "49853         1       144    1414540                          [giraffe]   \n",
       "49854         1       144     596031                          [giraffe]   \n",
       "49855         1       144     595892                          [giraffe]   \n",
       "49856         1       113    1723247              [person, lady, woman]   \n",
       "49857         1       113    1207747                 [person, guy, man]   \n",
       "49858         1       113     505536                      [person, man]   \n",
       "49859         1       110    1279416               [person, girl, hair]   \n",
       "49860         1       110    1220393                     [person, girl]   \n",
       "49861         1       110    1210262               [person, woman, mom]   \n",
       "49862         1       110    1299043               [person, girl, lady]   \n",
       "49863         1        72     600276                          [giraffe]   \n",
       "49864         1        72     598731                          [giraffe]   \n",
       "\n",
       "                                                 refexps  cat  ix_Xfile  \n",
       "0      [the lady with the blue shirt, lady with back ...    1     34271  \n",
       "1      [woman in gray shirt facing camera on right, w...    1     34270  \n",
       "2                                    [person standing u]    1     34771  \n",
       "3      [lady sitting on right, right girl on floor, w...    1     34770  \n",
       "4             [woman, left person, woman under suitcase]    1     32032  \n",
       "5      [man in jacket, man trying to help with suitca...    1     32031  \n",
       "6                    [left most toilet, far left toilet]   70     46501  \n",
       "7                                                     []   70     46500  \n",
       "8                          [right vase, right most vase]   86     47155  \n",
       "9                             [middle vase, center vase]   86     47154  \n",
       "10                                [left vase, left vase]   86     47153  \n",
       "11     [bus on the left, left buss, red bus on the left]    6     13415  \n",
       "12                  [bus in front, right bus, whole bus]    6     13414  \n",
       "13     [the head just behind the girl on leftin the m...    1     37475  \n",
       "14            [left kid, player left, left player front]    1     37474  \n",
       "15                  [boy, kid looking at you, boy front]    1     37473  \n",
       "16               [bird on right, right bird, right bird]   16      3824  \n",
       "17                  [left bird, left bird, bird on left]   16      3823  \n",
       "18     [second laptop from front right center, laptop...   73     23224  \n",
       "19                 [the laptop nearest us, monitor left]   73     23223  \n",
       "20         [hand in the front bottom right, fronnt hand]    1     23222  \n",
       "21                                                    []    1     23225  \n",
       "22               [man on left white hat, left dude, hat]    1     23259  \n",
       "23                    [guy on right, bald man, bald guy]    1     23258  \n",
       "24                           [center girl, woman, woman]    1     23257  \n",
       "25                           [black van in front of cab]    3     25497  \n",
       "26               [taxi, the taxi cab bottom right, taxi]    3     25496  \n",
       "27                                [top donut, top donut]   60     46235  \n",
       "28     [donut wcolored sprinkles, middle donut with s...   60     46234  \n",
       "29     [right half, what are these foods thing on the...   54     21785  \n",
       "...                                                  ...  ...       ...  \n",
       "49835  [hot dog with onions on it, top hot dog, one w...   58     45468  \n",
       "49836          [elephant far right, very right elephant]   22     39012  \n",
       "49837                  [elephant on left, left elephant]   22     39011  \n",
       "49838         [legs on bear, bear feet, bears feet only]   88     47680  \n",
       "49839  [middle bear head to the right of that red thi...   88     47679  \n",
       "49840  [bear arms, bears arms, middle section of tedd...   88     47678  \n",
       "49841  [man wearing apron, man on right apron, guy on...    1     30450  \n",
       "49842              [guy gray hat, guy with the blue hat]    1     30449  \n",
       "49843  [woman in blue, woman in blue, left side blue ...    1     30448  \n",
       "49844  [guy in white striped shirt, man looking down ...    1     30447  \n",
       "49845  [the elephant behind, the one behind, back ele...   22     39008  \n",
       "49846  [smaller elephant, tiny elephant, the elephant...   22     39007  \n",
       "49847  [snowboard second from right, second from righ...   36     41581  \n",
       "49848     [snowboard on the right, first board on right]   36     41580  \n",
       "49849  [man on the left, guy getting something, the m...    1     18516  \n",
       "49850  [woman on the right, military lady on the righ...    1     18515  \n",
       "49851  [zebra in the middle, giraffe in the middle, m...   24     40166  \n",
       "49852  [zebra at the bottom, the zebra in the foregro...   24     40165  \n",
       "49853  [giraffe on the left, giraffe on the left, lef...   25     40798  \n",
       "49854  [giraffe in the middle, middle giraffe, the mi...   25     40797  \n",
       "49855  [giraffe on the right, giraffe bending down, f...   25     40796  \n",
       "49856  [lady cutting the cake, woman, woman cutting t...    1     27755  \n",
       "49857  [man on the right, person on the right, man on...    1     27754  \n",
       "49858                  [man on left, man left, left man]    1     27753  \n",
       "49859  [girl in very center with red coat on chair, b...    1     27599  \n",
       "49860                [girl on left, little girl on left]    1     27598  \n",
       "49861            [mom in blue shirt, woman right, woman]    1     27597  \n",
       "49862  [leftmost lady showing her back in black shirt...    1     27600  \n",
       "49863      [giraffe on left, left giraffe, left giraffe]   25     41159  \n",
       "49864                                    [right giraffe]   25     41158  \n",
       "\n",
       "[49865 rows x 7 columns]"
      ]
     },
     "execution_count": 71,
     "metadata": {},
     "output_type": "execute_result"
    }
   ],
   "source": [
    "refdf"
   ]
  },
  {
   "cell_type": "code",
   "execution_count": 73,
   "metadata": {},
   "outputs": [
    {
     "data": {
      "text/plain": [
       "array([34271, 34270, 34771, ..., 27600, 41159, 41158])"
      ]
     },
     "execution_count": 73,
     "metadata": {},
     "output_type": "execute_result"
    }
   ],
   "source": [
    "np.array(refdf.ix_Xfile)"
   ]
  },
  {
   "cell_type": "code",
   "execution_count": 77,
   "metadata": {},
   "outputs": [
    {
     "data": {
      "text/plain": [
       "array([ 0.,  0.,  0.])"
      ]
     },
     "execution_count": 77,
     "metadata": {},
     "output_type": "execute_result"
    }
   ],
   "source": [
    "np.zeros((3,))"
   ]
  },
  {
   "cell_type": "code",
   "execution_count": 80,
   "metadata": {},
   "outputs": [
    {
     "data": {
      "text/plain": [
       "array([ 0.,  0.,  0.,  1.,  1.,  1.])"
      ]
     },
     "execution_count": 80,
     "metadata": {},
     "output_type": "execute_result"
    }
   ],
   "source": [
    "np.hstack([np.zeros((3,)), np.ones((3,))])"
   ]
  },
  {
   "cell_type": "code",
   "execution_count": null,
   "metadata": {
    "collapsed": true
   },
   "outputs": [],
   "source": []
  },
  {
   "cell_type": "code",
   "execution_count": null,
   "metadata": {
    "collapsed": true
   },
   "outputs": [],
   "source": []
  },
  {
   "cell_type": "code",
   "execution_count": null,
   "metadata": {
    "collapsed": true
   },
   "outputs": [],
   "source": []
  },
  {
   "cell_type": "code",
   "execution_count": null,
   "metadata": {
    "collapsed": true
   },
   "outputs": [],
   "source": []
  },
  {
   "cell_type": "code",
   "execution_count": 76,
   "metadata": {},
   "outputs": [
    {
     "data": {
      "text/plain": [
       "array([3, 9])"
      ]
     },
     "execution_count": 76,
     "metadata": {},
     "output_type": "execute_result"
    }
   ],
   "source": [
    "np.random.choice([2,3,6,9,4],2,replace=False)"
   ]
  },
  {
   "cell_type": "code",
   "execution_count": null,
   "metadata": {
    "collapsed": true
   },
   "outputs": [],
   "source": []
  },
  {
   "cell_type": "code",
   "execution_count": null,
   "metadata": {
    "collapsed": true
   },
   "outputs": [],
   "source": []
  },
  {
   "cell_type": "code",
   "execution_count": null,
   "metadata": {
    "collapsed": true
   },
   "outputs": [],
   "source": []
  },
  {
   "cell_type": "code",
   "execution_count": null,
   "metadata": {
    "collapsed": true
   },
   "outputs": [],
   "source": []
  },
  {
   "cell_type": "code",
   "execution_count": null,
   "metadata": {
    "collapsed": true
   },
   "outputs": [],
   "source": []
  },
  {
   "cell_type": "code",
   "execution_count": null,
   "metadata": {
    "collapsed": true
   },
   "outputs": [],
   "source": []
  },
  {
   "cell_type": "code",
   "execution_count": null,
   "metadata": {
    "collapsed": true
   },
   "outputs": [],
   "source": []
  },
  {
   "cell_type": "code",
   "execution_count": null,
   "metadata": {
    "collapsed": true
   },
   "outputs": [],
   "source": []
  },
  {
   "cell_type": "code",
   "execution_count": null,
   "metadata": {
    "collapsed": true
   },
   "outputs": [],
   "source": []
  },
  {
   "cell_type": "code",
   "execution_count": null,
   "metadata": {
    "collapsed": true
   },
   "outputs": [],
   "source": []
  },
  {
   "cell_type": "code",
   "execution_count": null,
   "metadata": {
    "collapsed": true
   },
   "outputs": [],
   "source": []
  },
  {
   "cell_type": "code",
   "execution_count": null,
   "metadata": {
    "collapsed": true
   },
   "outputs": [],
   "source": []
  },
  {
   "cell_type": "code",
   "execution_count": null,
   "metadata": {
    "collapsed": true
   },
   "outputs": [],
   "source": []
  },
  {
   "cell_type": "code",
   "execution_count": null,
   "metadata": {
    "collapsed": true
   },
   "outputs": [],
   "source": []
  },
  {
   "cell_type": "code",
   "execution_count": null,
   "metadata": {
    "collapsed": true
   },
   "outputs": [],
   "source": []
  },
  {
   "cell_type": "code",
   "execution_count": null,
   "metadata": {
    "collapsed": true
   },
   "outputs": [],
   "source": []
  },
  {
   "cell_type": "code",
   "execution_count": null,
   "metadata": {
    "collapsed": true
   },
   "outputs": [],
   "source": []
  },
  {
   "cell_type": "code",
   "execution_count": null,
   "metadata": {
    "collapsed": true
   },
   "outputs": [],
   "source": []
  },
  {
   "cell_type": "code",
   "execution_count": null,
   "metadata": {
    "collapsed": true
   },
   "outputs": [],
   "source": []
  },
  {
   "cell_type": "code",
   "execution_count": null,
   "metadata": {
    "collapsed": true
   },
   "outputs": [],
   "source": []
  },
  {
   "cell_type": "code",
   "execution_count": null,
   "metadata": {
    "collapsed": true
   },
   "outputs": [],
   "source": []
  },
  {
   "cell_type": "code",
   "execution_count": null,
   "metadata": {
    "collapsed": true
   },
   "outputs": [],
   "source": []
  },
  {
   "cell_type": "code",
   "execution_count": null,
   "metadata": {
    "collapsed": true
   },
   "outputs": [],
   "source": []
  },
  {
   "cell_type": "code",
   "execution_count": null,
   "metadata": {
    "collapsed": true
   },
   "outputs": [],
   "source": []
  },
  {
   "cell_type": "code",
   "execution_count": null,
   "metadata": {
    "collapsed": true
   },
   "outputs": [],
   "source": []
  },
  {
   "cell_type": "code",
   "execution_count": null,
   "metadata": {
    "collapsed": true
   },
   "outputs": [],
   "source": []
  },
  {
   "cell_type": "code",
   "execution_count": null,
   "metadata": {
    "collapsed": true
   },
   "outputs": [],
   "source": []
  },
  {
   "cell_type": "code",
   "execution_count": null,
   "metadata": {
    "collapsed": true
   },
   "outputs": [],
   "source": []
  },
  {
   "cell_type": "code",
   "execution_count": null,
   "metadata": {
    "collapsed": true
   },
   "outputs": [],
   "source": []
  },
  {
   "cell_type": "code",
   "execution_count": null,
   "metadata": {
    "collapsed": true
   },
   "outputs": [],
   "source": []
  },
  {
   "cell_type": "code",
   "execution_count": null,
   "metadata": {
    "collapsed": true
   },
   "outputs": [],
   "source": []
  },
  {
   "cell_type": "code",
   "execution_count": null,
   "metadata": {
    "collapsed": true
   },
   "outputs": [],
   "source": []
  },
  {
   "cell_type": "code",
   "execution_count": 4,
   "metadata": {
    "collapsed": true
   },
   "outputs": [],
   "source": [
    "refdf_path = \"refcoco_refdf_heads.json.gz\""
   ]
  },
  {
   "cell_type": "code",
   "execution_count": 35,
   "metadata": {
    "collapsed": true
   },
   "outputs": [],
   "source": [
    "refdf = pd.read_json(refdf_path,compression='gzip', orient='split')"
   ]
  },
  {
   "cell_type": "code",
   "execution_count": 36,
   "metadata": {},
   "outputs": [
    {
     "data": {
      "text/html": [
       "<div>\n",
       "<style scoped>\n",
       "    .dataframe tbody tr th:only-of-type {\n",
       "        vertical-align: middle;\n",
       "    }\n",
       "\n",
       "    .dataframe tbody tr th {\n",
       "        vertical-align: top;\n",
       "    }\n",
       "\n",
       "    .dataframe thead th {\n",
       "        text-align: right;\n",
       "    }\n",
       "</style>\n",
       "<table border=\"1\" class=\"dataframe\">\n",
       "  <thead>\n",
       "    <tr style=\"text-align: right;\">\n",
       "      <th></th>\n",
       "      <th>i_corpus</th>\n",
       "      <th>image_id</th>\n",
       "      <th>region_id</th>\n",
       "      <th>names</th>\n",
       "      <th>cat</th>\n",
       "      <th>ix_Xfile</th>\n",
       "    </tr>\n",
       "  </thead>\n",
       "  <tbody>\n",
       "    <tr>\n",
       "      <th>0</th>\n",
       "      <td>1</td>\n",
       "      <td>581857</td>\n",
       "      <td>1719310</td>\n",
       "      <td>[lady, shirt, person]</td>\n",
       "      <td>1</td>\n",
       "      <td>34271</td>\n",
       "    </tr>\n",
       "    <tr>\n",
       "      <th>1</th>\n",
       "      <td>1</td>\n",
       "      <td>581857</td>\n",
       "      <td>463958</td>\n",
       "      <td>[woman, person]</td>\n",
       "      <td>1</td>\n",
       "      <td>34270</td>\n",
       "    </tr>\n",
       "    <tr>\n",
       "      <th>2</th>\n",
       "      <td>1</td>\n",
       "      <td>581839</td>\n",
       "      <td>495152</td>\n",
       "      <td>[person]</td>\n",
       "      <td>1</td>\n",
       "      <td>34771</td>\n",
       "    </tr>\n",
       "    <tr>\n",
       "      <th>3</th>\n",
       "      <td>1</td>\n",
       "      <td>581839</td>\n",
       "      <td>485695</td>\n",
       "      <td>[girl, lady, woman, person]</td>\n",
       "      <td>1</td>\n",
       "      <td>34770</td>\n",
       "    </tr>\n",
       "    <tr>\n",
       "      <th>4</th>\n",
       "      <td>1</td>\n",
       "      <td>581789</td>\n",
       "      <td>453177</td>\n",
       "      <td>[woman, person]</td>\n",
       "      <td>1</td>\n",
       "      <td>32032</td>\n",
       "    </tr>\n",
       "  </tbody>\n",
       "</table>\n",
       "</div>"
      ],
      "text/plain": [
       "   i_corpus  image_id  region_id                        names  cat  ix_Xfile\n",
       "0         1    581857    1719310        [lady, shirt, person]    1     34271\n",
       "1         1    581857     463958              [woman, person]    1     34270\n",
       "2         1    581839     495152                     [person]    1     34771\n",
       "3         1    581839     485695  [girl, lady, woman, person]    1     34770\n",
       "4         1    581789     453177              [woman, person]    1     32032"
      ]
     },
     "execution_count": 36,
     "metadata": {},
     "output_type": "execute_result"
    }
   ],
   "source": [
    "refdf.head()"
   ]
  },
  {
   "cell_type": "code",
   "execution_count": 32,
   "metadata": {},
   "outputs": [
    {
     "data": {
      "text/html": [
       "<div>\n",
       "<style scoped>\n",
       "    .dataframe tbody tr th:only-of-type {\n",
       "        vertical-align: middle;\n",
       "    }\n",
       "\n",
       "    .dataframe tbody tr th {\n",
       "        vertical-align: top;\n",
       "    }\n",
       "\n",
       "    .dataframe thead th {\n",
       "        text-align: right;\n",
       "    }\n",
       "</style>\n",
       "<table border=\"1\" class=\"dataframe\">\n",
       "  <thead>\n",
       "    <tr style=\"text-align: right;\">\n",
       "      <th></th>\n",
       "      <th>i_corpus</th>\n",
       "      <th>image_id</th>\n",
       "      <th>region_id</th>\n",
       "      <th>names</th>\n",
       "      <th>cat</th>\n",
       "    </tr>\n",
       "  </thead>\n",
       "  <tbody>\n",
       "    <tr>\n",
       "      <th>1675</th>\n",
       "      <td>1</td>\n",
       "      <td>563447</td>\n",
       "      <td>57115</td>\n",
       "      <td>[horse]</td>\n",
       "      <td>19</td>\n",
       "    </tr>\n",
       "  </tbody>\n",
       "</table>\n",
       "</div>"
      ],
      "text/plain": [
       "      i_corpus  image_id  region_id    names  cat\n",
       "1675         1    563447      57115  [horse]   19"
      ]
     },
     "execution_count": 32,
     "metadata": {},
     "output_type": "execute_result"
    }
   ],
   "source": [
    "refdf[refdf.region_id == 57115]"
   ]
  },
  {
   "cell_type": "code",
   "execution_count": 33,
   "metadata": {},
   "outputs": [
    {
     "data": {
      "text/html": [
       "<div>\n",
       "<style scoped>\n",
       "    .dataframe tbody tr th:only-of-type {\n",
       "        vertical-align: middle;\n",
       "    }\n",
       "\n",
       "    .dataframe tbody tr th {\n",
       "        vertical-align: top;\n",
       "    }\n",
       "\n",
       "    .dataframe thead th {\n",
       "        text-align: right;\n",
       "    }\n",
       "</style>\n",
       "<table border=\"1\" class=\"dataframe\">\n",
       "  <thead>\n",
       "    <tr style=\"text-align: right;\">\n",
       "      <th></th>\n",
       "      <th>i_corpus</th>\n",
       "      <th>image_id</th>\n",
       "      <th>region_id</th>\n",
       "      <th>names</th>\n",
       "      <th>cat</th>\n",
       "    </tr>\n",
       "  </thead>\n",
       "  <tbody>\n",
       "    <tr>\n",
       "      <th>8905</th>\n",
       "      <td>1</td>\n",
       "      <td>480023</td>\n",
       "      <td>1745965</td>\n",
       "      <td>[person, hand]</td>\n",
       "      <td>1</td>\n",
       "    </tr>\n",
       "    <tr>\n",
       "      <th>8906</th>\n",
       "      <td>1</td>\n",
       "      <td>480023</td>\n",
       "      <td>1292891</td>\n",
       "      <td>[person, shirt]</td>\n",
       "      <td>1</td>\n",
       "    </tr>\n",
       "    <tr>\n",
       "      <th>8907</th>\n",
       "      <td>1</td>\n",
       "      <td>480023</td>\n",
       "      <td>498741</td>\n",
       "      <td>[person, man, guy]</td>\n",
       "      <td>1</td>\n",
       "    </tr>\n",
       "    <tr>\n",
       "      <th>8908</th>\n",
       "      <td>1</td>\n",
       "      <td>480023</td>\n",
       "      <td>438029</td>\n",
       "      <td>[person, girl, woman]</td>\n",
       "      <td>1</td>\n",
       "    </tr>\n",
       "  </tbody>\n",
       "</table>\n",
       "</div>"
      ],
      "text/plain": [
       "      i_corpus  image_id  region_id                  names  cat\n",
       "8905         1    480023    1745965         [person, hand]    1\n",
       "8906         1    480023    1292891        [person, shirt]    1\n",
       "8907         1    480023     498741     [person, man, guy]    1\n",
       "8908         1    480023     438029  [person, girl, woman]    1"
      ]
     },
     "execution_count": 33,
     "metadata": {},
     "output_type": "execute_result"
    }
   ],
   "source": [
    "refdf[refdf.image_id == 480023]"
   ]
  },
  {
   "cell_type": "code",
   "execution_count": 34,
   "metadata": {},
   "outputs": [
    {
     "data": {
      "text/html": [
       "<div>\n",
       "<style scoped>\n",
       "    .dataframe tbody tr th:only-of-type {\n",
       "        vertical-align: middle;\n",
       "    }\n",
       "\n",
       "    .dataframe tbody tr th {\n",
       "        vertical-align: top;\n",
       "    }\n",
       "\n",
       "    .dataframe thead th {\n",
       "        text-align: right;\n",
       "    }\n",
       "</style>\n",
       "<table border=\"1\" class=\"dataframe\">\n",
       "  <thead>\n",
       "    <tr style=\"text-align: right;\">\n",
       "      <th></th>\n",
       "      <th>i_corpus</th>\n",
       "      <th>image_id</th>\n",
       "      <th>region_id</th>\n",
       "      <th>names</th>\n",
       "      <th>cat</th>\n",
       "    </tr>\n",
       "  </thead>\n",
       "  <tbody>\n",
       "    <tr>\n",
       "      <th>7498</th>\n",
       "      <td>1</td>\n",
       "      <td>495875</td>\n",
       "      <td>448467</td>\n",
       "      <td>[person, man, guy]</td>\n",
       "      <td>1</td>\n",
       "    </tr>\n",
       "  </tbody>\n",
       "</table>\n",
       "</div>"
      ],
      "text/plain": [
       "      i_corpus  image_id  region_id               names  cat\n",
       "7498         1    495875     448467  [person, man, guy]    1"
      ]
     },
     "execution_count": 34,
     "metadata": {},
     "output_type": "execute_result"
    }
   ],
   "source": [
    "refdf[refdf.region_id == 448467]"
   ]
  },
  {
   "cell_type": "code",
   "execution_count": 7,
   "metadata": {},
   "outputs": [
    {
     "data": {
      "text/plain": [
       "50000"
      ]
     },
     "execution_count": 7,
     "metadata": {},
     "output_type": "execute_result"
    }
   ],
   "source": [
    "len(refdf)"
   ]
  },
  {
   "cell_type": "code",
   "execution_count": 9,
   "metadata": {
    "collapsed": true
   },
   "outputs": [],
   "source": [
    "vocab = []\n",
    "for n in refdf.names:\n",
    "    vocab += list(n)"
   ]
  },
  {
   "cell_type": "code",
   "execution_count": 12,
   "metadata": {},
   "outputs": [
    {
     "data": {
      "text/plain": [
       "2901"
      ]
     },
     "execution_count": 12,
     "metadata": {},
     "output_type": "execute_result"
    }
   ],
   "source": [
    "len(list(set(vocab)))"
   ]
  },
  {
   "cell_type": "code",
   "execution_count": 19,
   "metadata": {},
   "outputs": [
    {
     "data": {
      "text/plain": [
       "False"
      ]
     },
     "execution_count": 19,
     "metadata": {},
     "output_type": "execute_result"
    }
   ],
   "source": [
    "\"\" in vocab"
   ]
  },
  {
   "cell_type": "code",
   "execution_count": 14,
   "metadata": {},
   "outputs": [
    {
     "data": {
      "text/plain": [
       "['clump',\n",
       " 'sculpture',\n",
       " 'badass',\n",
       " 'elks',\n",
       " 'driver',\n",
       " 'flowers',\n",
       " 'lavender',\n",
       " 'pancakes',\n",
       " 'stand',\n",
       " 'rabbit',\n",
       " 'chunks',\n",
       " 'oclock',\n",
       " 'beam',\n",
       " 'ber',\n",
       " 'individual',\n",
       " 'chic',\n",
       " 'brixton',\n",
       " 'club',\n",
       " 'women',\n",
       " 'sammy',\n",
       " 'buss',\n",
       " 'necklace',\n",
       " 'eating',\n",
       " 'model',\n",
       " 'poerson',\n",
       " 'flower',\n",
       " 'blender',\n",
       " 'banannas',\n",
       " 'batte',\n",
       " 'armhand',\n",
       " 'strawberries',\n",
       " 'delk',\n",
       " 'hoddie',\n",
       " 'universal',\n",
       " 'rite',\n",
       " 'garaffe',\n",
       " 'xxx',\n",
       " 'mascot',\n",
       " 'character',\n",
       " 'smack',\n",
       " 'carpet',\n",
       " 'kernel',\n",
       " 'overalls',\n",
       " 'lips',\n",
       " 'macbook',\n",
       " 'stuffed',\n",
       " 'dials',\n",
       " 'uniform',\n",
       " 'see',\n",
       " 'hor',\n",
       " 'tables',\n",
       " 'cranberry',\n",
       " 'menu',\n",
       " 'hunk',\n",
       " 'hello',\n",
       " 'kity',\n",
       " 'penguin',\n",
       " 'truckvan',\n",
       " 'tractor',\n",
       " 'decorative',\n",
       " 'moo',\n",
       " 'popcorn',\n",
       " 'trash',\n",
       " 'topping',\n",
       " 'stick',\n",
       " 'pepsi',\n",
       " 'berries',\n",
       " 'armrest',\n",
       " 'sink',\n",
       " 'outfit',\n",
       " 'whitew',\n",
       " 'creamy',\n",
       " 'bear',\n",
       " 'wannabe',\n",
       " 'rght',\n",
       " 'ho',\n",
       " 'sort',\n",
       " 'glare',\n",
       " 'sandiwch',\n",
       " 'vodka',\n",
       " 'priest',\n",
       " 'page',\n",
       " 'gril',\n",
       " 'plater',\n",
       " 'listerine',\n",
       " 'backrest',\n",
       " 'geisha',\n",
       " 'mcneff',\n",
       " 'lounger',\n",
       " 'metor',\n",
       " 'plaid',\n",
       " 'ok',\n",
       " 'unbrella',\n",
       " 'drawers',\n",
       " 'pointing',\n",
       " 'rag',\n",
       " 'colors',\n",
       " 'bycicle',\n",
       " 'kayak',\n",
       " 'stella',\n",
       " 'tail',\n",
       " 'mannequin',\n",
       " 'lots',\n",
       " 'rusty',\n",
       " 'puffy',\n",
       " 'soccor',\n",
       " 'topcenter',\n",
       " 'poseing',\n",
       " 'bead',\n",
       " 'turtle',\n",
       " 'referree',\n",
       " 'shoulder',\n",
       " 'burgundy',\n",
       " 'poodle',\n",
       " 'guyy',\n",
       " 'pale',\n",
       " 'tad',\n",
       " 'baseman',\n",
       " 'sliver',\n",
       " 'propeller',\n",
       " 'thr',\n",
       " 'swirl',\n",
       " 'har',\n",
       " 'casserole',\n",
       " 'elephnat',\n",
       " 'goblet',\n",
       " 'fromt',\n",
       " 'hi',\n",
       " 'weener',\n",
       " 'construction',\n",
       " 'miller',\n",
       " 'peppers',\n",
       " 'mitten',\n",
       " 'electric',\n",
       " 'mit',\n",
       " 'babby',\n",
       " 'girraffe',\n",
       " 'silhouette',\n",
       " 'bucket',\n",
       " 'outer',\n",
       " 'slut',\n",
       " 'orangeblack',\n",
       " 'backward',\n",
       " 'bundle',\n",
       " 'umbre',\n",
       " 'redorange',\n",
       " 'potatoes',\n",
       " 'coats',\n",
       " 'pumkin',\n",
       " 'sweatshirt',\n",
       " 'baaa',\n",
       " 'turtleneck',\n",
       " 'gu',\n",
       " 'umbrella',\n",
       " 'bannas',\n",
       " 'equipment',\n",
       " 'sweat',\n",
       " 'stalker',\n",
       " 'buch',\n",
       " 'sand',\n",
       " 'shaker',\n",
       " 'shoes',\n",
       " 'bac',\n",
       " 'buttom',\n",
       " 'winning',\n",
       " 'information',\n",
       " 'splotch',\n",
       " 'frnt',\n",
       " 'print',\n",
       " 'sleeve',\n",
       " 'mooses',\n",
       " 'ass',\n",
       " 'dork',\n",
       " 'soccer',\n",
       " 'someones',\n",
       " 'tennis',\n",
       " 'olives',\n",
       " 'orang',\n",
       " 'something',\n",
       " 'brocolli',\n",
       " 'wihte',\n",
       " 'creeper',\n",
       " 'bittom',\n",
       " 'bracelet',\n",
       " 'dispenser',\n",
       " 'partail',\n",
       " 'sheets',\n",
       " 'space',\n",
       " 'np',\n",
       " 'town',\n",
       " 'choco',\n",
       " 'whit',\n",
       " 'clothing',\n",
       " 'woan',\n",
       " 'dude',\n",
       " 'girl',\n",
       " 'inspector',\n",
       " 'logo',\n",
       " 'puff',\n",
       " 'mule',\n",
       " 'fellow',\n",
       " 'yummy',\n",
       " 'laughing',\n",
       " 'plantain',\n",
       " 'chairback',\n",
       " 'skiier',\n",
       " 'rd',\n",
       " 'riht',\n",
       " 'piano',\n",
       " 'leftblack',\n",
       " 'chaise',\n",
       " 'strip',\n",
       " 'greg',\n",
       " 'tshirt',\n",
       " 'self',\n",
       " 'colt',\n",
       " 'infant',\n",
       " 'piece',\n",
       " 'dragon',\n",
       " 'whale',\n",
       " 'tooth',\n",
       " 'lmao',\n",
       " 'yelo',\n",
       " 'pilgrim',\n",
       " 'room',\n",
       " 'lugguge',\n",
       " 'lowerright',\n",
       " 'planes',\n",
       " 'cookie',\n",
       " 'son',\n",
       " 'sailor',\n",
       " 'jesus',\n",
       " 'tow',\n",
       " 'dudes',\n",
       " 'cement',\n",
       " 'shuttle',\n",
       " 'sweetie',\n",
       " 'veep',\n",
       " 'europe',\n",
       " 'zibra',\n",
       " 'lettice',\n",
       " 'northface',\n",
       " 'fruits',\n",
       " 'wich',\n",
       " 'beater',\n",
       " 'cereal',\n",
       " 'drk',\n",
       " 'notes',\n",
       " 'nobody',\n",
       " 'prob',\n",
       " 'pretzel',\n",
       " 'head',\n",
       " 'icing',\n",
       " 'brass',\n",
       " 'pants',\n",
       " 'moms',\n",
       " 'cooler',\n",
       " 'wiener',\n",
       " 'pepperoni',\n",
       " 'eklephant',\n",
       " 'quik',\n",
       " 'writing',\n",
       " 'strapless',\n",
       " 'backof',\n",
       " 'guycut',\n",
       " 'yo',\n",
       " 'commode',\n",
       " 'bench',\n",
       " 'skiing',\n",
       " 'eco',\n",
       " 'lid',\n",
       " 'bug',\n",
       " 'uy',\n",
       " 'mama',\n",
       " 'union',\n",
       " 'rit',\n",
       " 'baseball',\n",
       " 'glass',\n",
       " 'armchair',\n",
       " 'peel',\n",
       " 'plad',\n",
       " 'elepant',\n",
       " 'students',\n",
       " 'mouth',\n",
       " 'ladt',\n",
       " 'k453',\n",
       " 'blck',\n",
       " 'teddybear',\n",
       " 'date',\n",
       " 'horns',\n",
       " 'shiny',\n",
       " 'littl',\n",
       " 'suger',\n",
       " 'mythologies',\n",
       " 'zeb',\n",
       " 'gurl',\n",
       " 'dads',\n",
       " 'shirtblue',\n",
       " 'pimp',\n",
       " 'traffic',\n",
       " 'righttop',\n",
       " 'camo',\n",
       " 'swimming',\n",
       " 'glases',\n",
       " 'metal',\n",
       " 'bluegrey',\n",
       " 'empire',\n",
       " 'closets',\n",
       " 'hore',\n",
       " 'slider',\n",
       " 'vaio',\n",
       " 'leggs',\n",
       " 'skate',\n",
       " 'quarter',\n",
       " 'cruise',\n",
       " 'cookies',\n",
       " 'fuck',\n",
       " 'middlefront',\n",
       " 'butt',\n",
       " 'ticket',\n",
       " 'torso',\n",
       " 'im',\n",
       " 'pumpkin',\n",
       " 'branch',\n",
       " 'skunk',\n",
       " 'tomato',\n",
       " 'platebowl',\n",
       " 'wolf',\n",
       " 'ear',\n",
       " 'puple',\n",
       " 'president',\n",
       " 'brocilli',\n",
       " 'scooter',\n",
       " 'lookin',\n",
       " 'view',\n",
       " 'runner',\n",
       " 'motorcylcle',\n",
       " 'computer',\n",
       " 'blade',\n",
       " 'worker',\n",
       " 'grif',\n",
       " 'cox',\n",
       " 'skirt',\n",
       " 'elefant',\n",
       " 'pup',\n",
       " 'wool',\n",
       " 'bolw',\n",
       " 'dud',\n",
       " 'wball',\n",
       " 'campbells',\n",
       " 'trees',\n",
       " 'cathcer',\n",
       " 'increase',\n",
       " 'ripe',\n",
       " 'passenger',\n",
       " 'countertop',\n",
       " 'text',\n",
       " 'haircut',\n",
       " 'worman',\n",
       " 'ridden',\n",
       " 'pillow',\n",
       " 'tugboat',\n",
       " 'pickup',\n",
       " 'gingham',\n",
       " 'parrot',\n",
       " 'nana',\n",
       " 'layer',\n",
       " 'seocnd',\n",
       " 'dance',\n",
       " 'kneeler',\n",
       " 'girt',\n",
       " 'frot',\n",
       " 'elft',\n",
       " 'jump',\n",
       " 'potatoe',\n",
       " 'skater',\n",
       " 'sid',\n",
       " 'shades',\n",
       " 'luggage',\n",
       " 'laft',\n",
       " 'wii',\n",
       " 'spoon',\n",
       " 'dreadlocks',\n",
       " 'chica',\n",
       " 'arange',\n",
       " 'trench',\n",
       " 'beanie',\n",
       " 'boston',\n",
       " 'wreath',\n",
       " 'righthand',\n",
       " 'lleft',\n",
       " 'issues',\n",
       " 'end',\n",
       " 'kind',\n",
       " 'angels',\n",
       " 'ion',\n",
       " 'raincoat',\n",
       " 'wright',\n",
       " 'lefft',\n",
       " 'boss',\n",
       " 'chilli',\n",
       " 'lefvt',\n",
       " 'lesbian',\n",
       " 'blk',\n",
       " 'eaten',\n",
       " 'autograph',\n",
       " 'jumper',\n",
       " 'ninja',\n",
       " 'bottomost',\n",
       " 'swim',\n",
       " 'royals',\n",
       " 'gguy',\n",
       " 'mother',\n",
       " 'lines',\n",
       " 'leftfront',\n",
       " 'zebr',\n",
       " 'slice',\n",
       " 'pottery',\n",
       " 'hidden',\n",
       " 'hhead',\n",
       " 'pug',\n",
       " 'fortune',\n",
       " 'enter',\n",
       " 'moniter',\n",
       " 'brownie',\n",
       " 'grown',\n",
       " 'ashtray',\n",
       " 'catcher',\n",
       " 'bears',\n",
       " 'marlboro',\n",
       " 'ducks',\n",
       " 'biek',\n",
       " 'numbers',\n",
       " 'pizzzza',\n",
       " 'thanks',\n",
       " 'burger',\n",
       " 'elephant',\n",
       " 'slices',\n",
       " 'building',\n",
       " 'team',\n",
       " 'reacher',\n",
       " 'ron',\n",
       " 'broclli',\n",
       " 'blu',\n",
       " 'dug',\n",
       " 'gear',\n",
       " 'keeper',\n",
       " 'sauce',\n",
       " 'secon',\n",
       " 'rope',\n",
       " 'ty',\n",
       " 'gravy',\n",
       " 'mushrooms',\n",
       " 'taco',\n",
       " 'ponytail',\n",
       " 'mr',\n",
       " 'righht',\n",
       " 'sprinkles',\n",
       " 'way',\n",
       " 'spectator',\n",
       " 'dining',\n",
       " 'bending',\n",
       " 'womn',\n",
       " 'players',\n",
       " 'horze',\n",
       " 'wiimote',\n",
       " 'bedspread',\n",
       " 'tuna',\n",
       " 'court',\n",
       " 'circles',\n",
       " 'ring',\n",
       " 'atomic',\n",
       " 'zebras',\n",
       " 'neon',\n",
       " 'licence',\n",
       " 'fireplace',\n",
       " 'medium',\n",
       " 'cook',\n",
       " 'goggles',\n",
       " 'bend',\n",
       " 'marron',\n",
       " 'pineapple',\n",
       " 'giraff',\n",
       " 'vace',\n",
       " 'sox',\n",
       " 'parent',\n",
       " 'walkdont',\n",
       " 'beginning',\n",
       " 'ambulance',\n",
       " 'elepahant',\n",
       " 'punch',\n",
       " 'lookalike',\n",
       " 'brococli',\n",
       " 'farther',\n",
       " 'blueberry',\n",
       " 'scissors',\n",
       " 'cabrera',\n",
       " 'tangerine',\n",
       " 'hirt',\n",
       " 'flamingo',\n",
       " 'gallon',\n",
       " 'tatoo',\n",
       " 'bachelorette',\n",
       " 'burry',\n",
       " 'flowery',\n",
       " 'anything',\n",
       " 'bedding',\n",
       " 'lead',\n",
       " 'fuller',\n",
       " 'goldbrown',\n",
       " 'chaircouch',\n",
       " 'barber',\n",
       " 'midd',\n",
       " 'device',\n",
       " 'mash',\n",
       " 'art',\n",
       " 'clue',\n",
       " 'mattress',\n",
       " 'bttm',\n",
       " 'outside',\n",
       " 'burners',\n",
       " 'refrig',\n",
       " 'crab',\n",
       " 'scissor',\n",
       " 'laddy',\n",
       " 'centerright',\n",
       " 'screenmonitor',\n",
       " 'snoopy',\n",
       " 'khaki',\n",
       " 'grill',\n",
       " 'da',\n",
       " 'bana',\n",
       " 'highlight',\n",
       " 'pance',\n",
       " 'airplane',\n",
       " 'basket',\n",
       " 'plymouth',\n",
       " 'backside',\n",
       " 'leftist',\n",
       " 'rubber',\n",
       " 'rightside',\n",
       " 'motorcycle',\n",
       " 'chrome',\n",
       " 'vw',\n",
       " 'piee',\n",
       " 'frig',\n",
       " 'grabbing',\n",
       " 'person',\n",
       " 'umbrell',\n",
       " 'stir',\n",
       " 'server',\n",
       " 'bike',\n",
       " 'soldiers',\n",
       " 'tower',\n",
       " 'bs',\n",
       " 'bananan',\n",
       " 'yikes',\n",
       " 'dawn',\n",
       " 'market',\n",
       " 'ham',\n",
       " 'leftelephant',\n",
       " 'douche',\n",
       " 'hottie',\n",
       " 'joe',\n",
       " 'hippie',\n",
       " 'bet',\n",
       " 'haed',\n",
       " 'non',\n",
       " 'haha',\n",
       " 'sandles',\n",
       " 'decorations',\n",
       " 'kids',\n",
       " 'fabric',\n",
       " 'train',\n",
       " 'dining table',\n",
       " 'childs',\n",
       " 'owl',\n",
       " 'aviator',\n",
       " 'braid',\n",
       " 'low',\n",
       " 'seats',\n",
       " 'brella',\n",
       " 'milkshake',\n",
       " 'sjirt',\n",
       " 'pruple',\n",
       " 'baby',\n",
       " 'tram',\n",
       " 'toilet',\n",
       " 'harry',\n",
       " 'cloak',\n",
       " 'pooh',\n",
       " 'skateboarder',\n",
       " 'rofl',\n",
       " 'member',\n",
       " 'customer',\n",
       " 'post',\n",
       " 'beaver',\n",
       " 'mixer',\n",
       " 'ya',\n",
       " 'fender',\n",
       " 'breasts',\n",
       " 'drank',\n",
       " 'karate',\n",
       " 'cucumber',\n",
       " 'cars',\n",
       " 'ladder',\n",
       " 'stall',\n",
       " 'object',\n",
       " 'infornt',\n",
       " 'khakis',\n",
       " 'rim',\n",
       " 'bowls',\n",
       " 'fish',\n",
       " 'brocolii',\n",
       " 'bowl',\n",
       " 'baldy',\n",
       " 'zeebra',\n",
       " 'sock',\n",
       " 'kick',\n",
       " 'las',\n",
       " 'oil',\n",
       " 'party',\n",
       " 'ice',\n",
       " 'tarp',\n",
       " 'meaty',\n",
       " 'gira',\n",
       " 'subject',\n",
       " 'bouquet',\n",
       " 'retriever',\n",
       " 'plane',\n",
       " 'dali',\n",
       " 'tiger',\n",
       " 'birdie',\n",
       " 'lrft',\n",
       " 'momma',\n",
       " 'yak',\n",
       " 'snowboard',\n",
       " 'batting',\n",
       " 'panel',\n",
       " 'desert',\n",
       " 'beanine',\n",
       " 'orage',\n",
       " 'grl',\n",
       " 'slumped',\n",
       " 'whell',\n",
       " 'yrk',\n",
       " 'beighe',\n",
       " 'playert',\n",
       " 'sheep',\n",
       " 'delivery',\n",
       " 'koala',\n",
       " 'heads',\n",
       " 'botton',\n",
       " 'tag',\n",
       " 'sweaty',\n",
       " 'cactus',\n",
       " 'apron',\n",
       " 'nurse',\n",
       " 'fire hydrant',\n",
       " 'graffie',\n",
       " 'steer',\n",
       " 'triangle',\n",
       " 'sleeveless',\n",
       " 'donught',\n",
       " 'rgiht',\n",
       " 'jeans',\n",
       " 'animals',\n",
       " 'bleacher',\n",
       " 'texter',\n",
       " 'cool',\n",
       " 'vitoria',\n",
       " 'whitre',\n",
       " 'television',\n",
       " 'zebar',\n",
       " 'hero',\n",
       " 'crane',\n",
       " 'mman',\n",
       " 'dvd',\n",
       " 'dapper',\n",
       " 'rightfront',\n",
       " 'booty',\n",
       " 'wheels',\n",
       " 'behine',\n",
       " 'gas',\n",
       " 'mon',\n",
       " 'forklift',\n",
       " 'doughtnut',\n",
       " 'gir',\n",
       " 'bannanas',\n",
       " 'jean',\n",
       " 'ref',\n",
       " 'rail',\n",
       " 'douce',\n",
       " 'controler',\n",
       " 'artist',\n",
       " 'fucker',\n",
       " 'seat',\n",
       " 'riding',\n",
       " 'middleman',\n",
       " 'boots',\n",
       " 'righit',\n",
       " 'stands',\n",
       " 'peas',\n",
       " 'goatee',\n",
       " 'scale',\n",
       " 'loveseat',\n",
       " 'dres',\n",
       " 'zeeb',\n",
       " 'eyes',\n",
       " 'container',\n",
       " 'ballcap',\n",
       " 'fence',\n",
       " 'suv',\n",
       " 'bin',\n",
       " 'envelope',\n",
       " 'sandw',\n",
       " 'teapot',\n",
       " 'jar',\n",
       " 'preson',\n",
       " 'chopsticks',\n",
       " 'thrid',\n",
       " 'aplle',\n",
       " 'playa',\n",
       " 'salsa',\n",
       " 'instrument',\n",
       " 'amainl',\n",
       " 'lemons',\n",
       " 'whoops',\n",
       " 'calf',\n",
       " 'motor',\n",
       " 'ball',\n",
       " 'items',\n",
       " 'flipper',\n",
       " 'beads',\n",
       " 'benz',\n",
       " 'bananaa',\n",
       " 'sideways',\n",
       " 'ride',\n",
       " 'locker',\n",
       " 'kiwi',\n",
       " 'senator',\n",
       " 'granny',\n",
       " 'onthe',\n",
       " 'cookbook',\n",
       " 'necktie',\n",
       " 'cheescake',\n",
       " 'whip',\n",
       " 'teacup',\n",
       " 'grape',\n",
       " 'push',\n",
       " 'peaches',\n",
       " 'eagle',\n",
       " 'sandwiches',\n",
       " 'girrafe',\n",
       " 'symbol',\n",
       " 'oon',\n",
       " 'waffle',\n",
       " 'sinks',\n",
       " 'bull',\n",
       " 'piglet',\n",
       " 'balls',\n",
       " 'cheesecake',\n",
       " 'frt',\n",
       " 'rihg',\n",
       " 'jif',\n",
       " 'bottow',\n",
       " 'leaves',\n",
       " 'drink',\n",
       " 'park',\n",
       " 'puppies',\n",
       " 'skaetboarder',\n",
       " 'bb',\n",
       " 'wi',\n",
       " 'elephnt',\n",
       " 'skier',\n",
       " 'fork',\n",
       " 'embroidery',\n",
       " 'edge',\n",
       " 'motorbike',\n",
       " 'defender',\n",
       " 'hood',\n",
       " 'yep',\n",
       " 'label',\n",
       " 'salt',\n",
       " 'sprinkle',\n",
       " 'surboard',\n",
       " 'stunt',\n",
       " 'laotop',\n",
       " 'lettuce',\n",
       " 'leftguy',\n",
       " 'pattern',\n",
       " 'game',\n",
       " 'bill',\n",
       " 'hamburger',\n",
       " 'horizontal',\n",
       " 'kitty',\n",
       " 'pen',\n",
       " 'holder',\n",
       " 'banna',\n",
       " 'mointer',\n",
       " 'specialty',\n",
       " 'topleft',\n",
       " 'bushes',\n",
       " 'figurine',\n",
       " 'bke',\n",
       " 'potty',\n",
       " 'singer',\n",
       " 'brownwhite',\n",
       " 'citizen',\n",
       " 'dip',\n",
       " 'hanging',\n",
       " 'lemonade',\n",
       " 'sky',\n",
       " 'husband',\n",
       " 'sail',\n",
       " 'meter',\n",
       " 'frontcenter',\n",
       " 'beds',\n",
       " 'denim',\n",
       " 'poles',\n",
       " 'cups',\n",
       " 'blak',\n",
       " 'tin',\n",
       " 'rhino',\n",
       " 'stander',\n",
       " 'hauler',\n",
       " 'stack',\n",
       " 'elph',\n",
       " 'umm',\n",
       " 'omg',\n",
       " 'sammich',\n",
       " 'ternen',\n",
       " 'geico',\n",
       " 'water',\n",
       " 'girafee',\n",
       " 'shorter',\n",
       " 'delta',\n",
       " 'canter',\n",
       " 'log',\n",
       " 'staring',\n",
       " 'wrap',\n",
       " 'syrup',\n",
       " 'knees',\n",
       " 'napkin',\n",
       " 'boxes',\n",
       " 'biscuit',\n",
       " 'headband',\n",
       " 'grass',\n",
       " 'srry',\n",
       " 'scallop',\n",
       " 'receiving',\n",
       " 'headlights',\n",
       " 'frm',\n",
       " 'aceto',\n",
       " 'toy',\n",
       " 'brwn',\n",
       " 'shade',\n",
       " 'hull',\n",
       " 'down',\n",
       " 'crackers',\n",
       " 'fr',\n",
       " 'farleft',\n",
       " 'sports',\n",
       " 'sprite',\n",
       " 'slacks',\n",
       " 'stop',\n",
       " 'closet',\n",
       " 'ye',\n",
       " 'tedy',\n",
       " 'meal',\n",
       " 'closer',\n",
       " 'sitting',\n",
       " 'batta',\n",
       " 'controls',\n",
       " 'engine',\n",
       " 'scoop',\n",
       " 'wman',\n",
       " 'headlight',\n",
       " 'relfection',\n",
       " 'darker',\n",
       " 'elephants',\n",
       " 'bun',\n",
       " 'mac',\n",
       " 'whiter',\n",
       " 'rest',\n",
       " 'winner',\n",
       " 'apples',\n",
       " 'split',\n",
       " 'cloth',\n",
       " 'frame',\n",
       " 'cell',\n",
       " 'document',\n",
       " 'bluewhite',\n",
       " 'semi',\n",
       " 'giriaffe',\n",
       " 'jets',\n",
       " 'glitchy',\n",
       " 'rearview',\n",
       " 'adult',\n",
       " 'bowling',\n",
       " 'tier',\n",
       " 'borc',\n",
       " 'bx59chf',\n",
       " 'horn',\n",
       " 'botto',\n",
       " 'carrots',\n",
       " 'cahir',\n",
       " 'giraffee',\n",
       " 'cammo',\n",
       " 'samsung',\n",
       " 'sneaker',\n",
       " 'mototcycle',\n",
       " 'metter',\n",
       " 'mum',\n",
       " 'sitter',\n",
       " 'soaf',\n",
       " 'unmbrella',\n",
       " 'window',\n",
       " 'elefphant',\n",
       " 'beat',\n",
       " 'helmet',\n",
       " 'coch',\n",
       " 'furry',\n",
       " 'frotn',\n",
       " 'bmw',\n",
       " 'twin',\n",
       " 'elepahnt',\n",
       " 'thrower',\n",
       " 'brocoli',\n",
       " 'swan',\n",
       " 'wears',\n",
       " 'met',\n",
       " 'shoulders',\n",
       " 'prson',\n",
       " 'waiter',\n",
       " 'stool',\n",
       " 'bot',\n",
       " 'circuit',\n",
       " 'microwave',\n",
       " 'crotch',\n",
       " 'stripes',\n",
       " 'mickey',\n",
       " 'place',\n",
       " 'texas',\n",
       " 'hairstylist',\n",
       " 'hairy',\n",
       " 'roght',\n",
       " 'station',\n",
       " 'hazy',\n",
       " 'veg',\n",
       " 'papa',\n",
       " 'dump',\n",
       " 'chubby',\n",
       " 'curlys',\n",
       " 'crib',\n",
       " 'armpit',\n",
       " 'volunteer',\n",
       " 'house',\n",
       " 'onions',\n",
       " 'baker',\n",
       " 'lass',\n",
       " 'shity',\n",
       " 'video',\n",
       " 'min',\n",
       " 'rump',\n",
       " 'tongue',\n",
       " 'teddy bear',\n",
       " 'quilt',\n",
       " 'obama',\n",
       " 'char',\n",
       " 'boats',\n",
       " 'wht',\n",
       " 'pot',\n",
       " 'suvcar',\n",
       " 'cutout',\n",
       " 'horse',\n",
       " 'pears',\n",
       " 'filling',\n",
       " 'shorts',\n",
       " 'scarf',\n",
       " 'close',\n",
       " 'officer',\n",
       " 'ford',\n",
       " 'blurr',\n",
       " 'clerk',\n",
       " 'monkey',\n",
       " 'twelve',\n",
       " 'pieces',\n",
       " 'monitor',\n",
       " 'warm',\n",
       " 'surface',\n",
       " 'console',\n",
       " 'dow',\n",
       " 'beer',\n",
       " 'bananas',\n",
       " 'bar',\n",
       " 'bodyless',\n",
       " 'pump',\n",
       " 'time',\n",
       " 'snow',\n",
       " ...]"
      ]
     },
     "execution_count": 14,
     "metadata": {},
     "output_type": "execute_result"
    }
   ],
   "source": [
    "list(set(vocab))"
   ]
  },
  {
   "cell_type": "code",
   "execution_count": 16,
   "metadata": {
    "collapsed": true
   },
   "outputs": [],
   "source": [
    "glove_model = KeyedVectors.load_word2vec_format(\"glove.6B/glove.6B.300d.w2v.bin\")"
   ]
  },
  {
   "cell_type": "code",
   "execution_count": 18,
   "metadata": {
    "collapsed": true
   },
   "outputs": [],
   "source": [
    "glove_model['person'];"
   ]
  },
  {
   "cell_type": "code",
   "execution_count": 20,
   "metadata": {
    "collapsed": true
   },
   "outputs": [],
   "source": [
    "vocab = list(set(vocab))\n"
   ]
  },
  {
   "cell_type": "code",
   "execution_count": 21,
   "metadata": {
    "collapsed": true
   },
   "outputs": [],
   "source": [
    "glove_vocab = [ w for w in vocab if w in glove_model]"
   ]
  },
  {
   "cell_type": "code",
   "execution_count": 22,
   "metadata": {},
   "outputs": [
    {
     "data": {
      "text/plain": [
       "2393"
      ]
     },
     "execution_count": 22,
     "metadata": {},
     "output_type": "execute_result"
    }
   ],
   "source": [
    "len(glove_vocab)"
   ]
  },
  {
   "cell_type": "code",
   "execution_count": 25,
   "metadata": {},
   "outputs": [
    {
     "name": "stdout",
     "output_type": "stream",
     "text": [
      "person -0.55598 0.027967 -0.32289 -0.075042 -0.13179 0.13271 -0.15578 0.11468 -0.055989 -1.6266 0.12912 -0.20525 -0.2162 -0.087432 -0.085335 0.033107 -0.22467 -0.099248 -0.21777 -0.25671 0.063234 0.50175 -0.16002 0.30961 0.20912 -0.29045 0.042019 -0.022472 0.24542 -0.075772 -0.56552 0.62501 -0.35209 -0.60992 -0.93654 0.25625 0.21782 -0.24591 -0.53093 0.20034 0.022471 0.073258 -0.029808 0.082042 -0.26838 0.011861 0.5919 0.008274 -0.07756 0.37252 0.12574 0.05661 0.61548 0.19826 -0.053163 0.27715 0.15825 0.13941 0.35109 -0.21844 0.10418 0.089417 0.11362 0.25903 -0.10444 -0.30457 -0.36033 -0.22062 -0.47356 0.48017 0.037563 -0.42485 -0.026248 -0.14516 0.012868 0.041353 0.1957 0.34752 0.15859 0.097584 -0.1535 0.24506 -0.12282 0.24122 -0.42262 -0.20683 -0.26847 -0.22687 -0.038363 0.53815 -0.77009 0.3295 -0.42145 -0.29034 0.59593 -0.041209 -0.3399 0.3474 0.14502 -0.21154 -0.29105 0.00061433 -0.034839 -0.06446 0.50316 0.34938 0.61775 -0.15638 -0.001032 0.13306 -0.0085934 0.5276 0.22607 -0.19192 0.23934 0.42408 0.20813 -0.26179 -0.016044 0.11079 -0.32166 0.40659 -0.36406 0.32891 0.17975 -0.21641 0.044669 0.2108 0.58726 -0.39853 0.25704 0.15711 0.24748 0.24896 -0.3025 0.23385 -0.36426 0.12516 -0.13441 0.23204 -0.19477 0.36307 0.078216 0.21459 -0.88479 -0.001032 0.24846 -0.022664 -0.51744 0.33348 0.077626 -0.073894 0.31331 0.027608 -0.18036 0.31385 0.18773 -0.20807 0.054752 0.18627 0.014948 -0.054603 0.18363 -0.14509 0.19973 -0.084463 -0.19198 0.43096 0.35008 0.20263 0.32626 -0.11434 -0.37039 -0.15726 0.085719 -0.48072 -0.059093 -0.11483 -0.09755 0.082889 0.45523 -0.13926 -0.20038 0.038418 -0.41626 -0.14689 -0.016075 0.020048 -0.41291 0.4673 0.14628 -0.22465 -0.07652 0.014452 -0.064826 -0.20555 -0.44776 -0.20911 -0.60918 -0.03074 0.98495 0.16478 0.01581 -0.08943 0.031878 0.12131 0.040689 0.58173 -0.068877 0.11653 -0.11146 -0.26589 -0.020509 -0.43364 -0.090592 0.18698 -0.07993 0.2 0.2633 0.51927 -0.89245 0.46274 0.19883 0.19705 -0.0016986 -0.071647 -0.10824 -0.17091 0.058744 0.61106 -0.099967 -0.24145 0.27622 -0.2551 -0.025294 0.14823 -0.048736 -0.041892 -0.35993 0.33607 0.33322 -0.19354 0.43084 -0.20168 0.10703 0.11302 0.087479 0.24039 0.25433 0.24598 0.28586 -0.007229 -0.025722 -0.068679 0.43549 0.39416 0.20423 -0.0056354 0.2341 -0.21078 0.096383 -0.017153 -0.20387 0.15907 -0.59309 -0.0695 0.89703 0.16332 0.14649 0.32346 -0.0052467 -0.38847 0.44625 0.44645 0.1573 0.085002 -2.1817 -0.24456 0.31126 -0.057708 -0.03241 -0.32448 0.50954 0.15179 -0.25333 0.73417 -0.070299 0.14858 -0.41725 -0.11175 0.33894 -0.31731 -0.2781 -0.43502 0.30036 -0.47751 -0.43544 0.17415 -0.12442 0.1537\n"
     ]
    }
   ],
   "source": [
    "print('person',' '.join([str(i) for i in glove_model['person']]))"
   ]
  },
  {
   "cell_type": "code",
   "execution_count": 26,
   "metadata": {
    "collapsed": true
   },
   "outputs": [],
   "source": [
    "from gensim.scripts.glove2word2vec import glove2word2vec\n"
   ]
  },
  {
   "cell_type": "code",
   "execution_count": 27,
   "metadata": {},
   "outputs": [
    {
     "data": {
      "text/plain": [
       "(779, 300)"
      ]
     },
     "execution_count": 27,
     "metadata": {},
     "output_type": "execute_result"
    }
   ],
   "source": [
    "glove2word2vec(\"glove.6B/glove.6B.300d.heads.txt\", \"glove.6B/glove.6B.300d.heads.w2v.bin\")"
   ]
  },
  {
   "cell_type": "code",
   "execution_count": 52,
   "metadata": {
    "collapsed": true
   },
   "outputs": [],
   "source": [
    "from nltk.corpus import wordnet as wn\n"
   ]
  },
  {
   "cell_type": "code",
   "execution_count": 61,
   "metadata": {},
   "outputs": [],
   "source": []
  },
  {
   "cell_type": "code",
   "execution_count": 69,
   "metadata": {},
   "outputs": [
    {
     "name": "stdout",
     "output_type": "stream",
     "text": [
      "Synset('cake.n.01')\n",
      "['cake', 'bar']\n",
      "hsyn Synset('block.n.01')\n",
      "['block']\n",
      "hsyn2 Synset('artifact.n.01')\n",
      "['artifact', 'artefact']\n",
      "Synset('patty.n.01')\n",
      "['patty', 'cake']\n",
      "hsyn Synset('dish.n.02')\n",
      "['dish']\n",
      "hsyn2 Synset('nutriment.n.01')\n",
      "['nutriment', 'nourishment', 'nutrition', 'sustenance', 'aliment', 'alimentation', 'victuals']\n",
      "Synset('cake.n.03')\n",
      "['cake']\n",
      "hsyn Synset('baked_goods.n.01')\n",
      "['baked_goods']\n",
      "hsyn2 Synset('food.n.02')\n",
      "['food', 'solid_food']\n",
      "Synset('coat.v.03')\n",
      "['coat', 'cake']\n",
      "hsyn Synset('cover.v.02')\n",
      "['cover', 'spread_over']\n",
      "hsyn2 Synset('touch.v.05')\n",
      "['touch', 'adjoin', 'meet', 'contact']\n"
     ]
    }
   ],
   "source": [
    "for s0 in wn.synsets('cake'):\n",
    "    print(s0)\n",
    "    print(s0.lemma_names())\n",
    "    for hsyn in s0.hypernyms():\n",
    "        print(\"hsyn\",hsyn)\n",
    "        print(hsyn.lemma_names())\n",
    "        for hsyn2 in hsyn.hypernyms():\n",
    "            print(\"hsyn2\",hsyn2)\n",
    "            print(hsyn2.lemma_names())"
   ]
  },
  {
   "cell_type": "code",
   "execution_count": 58,
   "metadata": {},
   "outputs": [
    {
     "data": {
      "text/plain": [
       "[]"
      ]
     },
     "execution_count": 58,
     "metadata": {},
     "output_type": "execute_result"
    }
   ],
   "source": [
    "s0.instance_hypernyms()"
   ]
  },
  {
   "cell_type": "code",
   "execution_count": 59,
   "metadata": {},
   "outputs": [
    {
     "data": {
      "text/plain": [
       "['person', 'individual', 'someone', 'somebody', 'mortal', 'soul']"
      ]
     },
     "execution_count": 59,
     "metadata": {},
     "output_type": "execute_result"
    }
   ],
   "source": [
    "s0.lemma_names()"
   ]
  },
  {
   "cell_type": "code",
   "execution_count": null,
   "metadata": {
    "collapsed": true
   },
   "outputs": [],
   "source": []
  },
  {
   "cell_type": "code",
   "execution_count": null,
   "metadata": {
    "collapsed": true
   },
   "outputs": [],
   "source": []
  },
  {
   "cell_type": "code",
   "execution_count": null,
   "metadata": {
    "collapsed": true
   },
   "outputs": [],
   "source": []
  },
  {
   "cell_type": "code",
   "execution_count": null,
   "metadata": {
    "collapsed": true
   },
   "outputs": [],
   "source": []
  },
  {
   "cell_type": "code",
   "execution_count": null,
   "metadata": {
    "collapsed": true
   },
   "outputs": [],
   "source": []
  }
 ],
 "metadata": {
  "kernelspec": {
   "display_name": "Python 3",
   "language": "python",
   "name": "python3"
  },
  "language_info": {
   "codemirror_mode": {
    "name": "ipython",
    "version": 3
   },
   "file_extension": ".py",
   "mimetype": "text/x-python",
   "name": "python",
   "nbconvert_exporter": "python",
   "pygments_lexer": "ipython3",
   "version": "3.6.3"
  }
 },
 "nbformat": 4,
 "nbformat_minor": 2
}
